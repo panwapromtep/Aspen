{
 "cells": [
  {
   "cell_type": "code",
   "execution_count": 2,
   "id": "ffc00cea",
   "metadata": {},
   "outputs": [],
   "source": [
    "#from ast import AugAssign\n",
    "import sys\n",
    "import os\n",
    "# Add the parent directory to sys.path\n",
    "parent_dir = \"../../Aspen/\"\n",
    "sys.path.append(parent_dir)\n",
    "\n",
    "# print(\"current path: \", sys.path)\n",
    "from CodeLibrary import Simulation"
   ]
  },
  {
   "cell_type": "code",
   "execution_count": 3,
   "id": "a29e8b5a",
   "metadata": {},
   "outputs": [
    {
     "name": "stdout",
     "output_type": "stream",
     "text": [
      "The current Directory is :  \n",
      "C:\\Users\\ppromte1\\OneDrive - Johns Hopkins\\Process Design\\Aspen\\Benzene_Toluene_Flow\n",
      "The new Directory where you should also have your Aspen file is : \n",
      "C:\\Users\\ppromte1\\OneDrive - Johns Hopkins\\Process Design\\Aspen\\Benzene_Toluene_Flow\n",
      "The Aspen is active now. If you dont want to see aspen open again take VISIBITLY as False \n",
      "\n"
     ]
    }
   ],
   "source": [
    "sim = Simulation(AspenFileName= \"./Flash_Toluene_Benzene.bkp\", \n",
    "                 WorkingDirectoryPath= \"../Benzene_Toluene_Flow/\" ,\n",
    "                 VISIBILITY=True)"
   ]
  },
  {
   "cell_type": "code",
   "execution_count": null,
   "id": "949eb8ba",
   "metadata": {},
   "outputs": [],
   "source": [
    "# Try retrieve eosme stuff"
   ]
  },
  {
   "cell_type": "code",
   "execution_count": 5,
   "id": "73715726",
   "metadata": {},
   "outputs": [
    {
     "ename": "AttributeError",
     "evalue": "'NoneType' object has no attribute 'Value'",
     "output_type": "error",
     "traceback": [
      "\u001b[1;31m---------------------------------------------------------------------------\u001b[0m",
      "\u001b[1;31mAttributeError\u001b[0m                            Traceback (most recent call last)",
      "Cell \u001b[1;32mIn[5], line 1\u001b[0m\n\u001b[1;32m----> 1\u001b[0m FlashDrum_inp_dict \u001b[38;5;241m=\u001b[39m sim\u001b[38;5;241m.\u001b[39mBLK_HEATER_GET_ME_ALL_INPUTS_BACK(\u001b[38;5;124m\"\u001b[39m\u001b[38;5;124mB2\u001b[39m\u001b[38;5;124m\"\u001b[39m)\n",
      "File \u001b[1;32m~\\OneDrive - Johns Hopkins\\Process Design\\Aspen\\Benzene_Toluene_Flow\\../../Aspen\\CodeLibrary.py:684\u001b[0m, in \u001b[0;36mSimulation.BLK_HEATER_GET_ME_ALL_INPUTS_BACK\u001b[1;34m(self, Blockname)\u001b[0m\n\u001b[0;32m    682\u001b[0m Vaporfraction \u001b[38;5;241m=\u001b[39m\u001b[38;5;28mself\u001b[39m\u001b[38;5;241m.\u001b[39mBLK\u001b[38;5;241m.\u001b[39mElements(Blockname)\u001b[38;5;241m.\u001b[39mElements(\u001b[38;5;124m\"\u001b[39m\u001b[38;5;124mInput\u001b[39m\u001b[38;5;124m\"\u001b[39m)\u001b[38;5;241m.\u001b[39mElements(\u001b[38;5;124m\"\u001b[39m\u001b[38;5;124mVFRAC\u001b[39m\u001b[38;5;124m\"\u001b[39m)\u001b[38;5;241m.\u001b[39mValue \n\u001b[0;32m    683\u001b[0m PressureDropCorrelation \u001b[38;5;241m=\u001b[39m\u001b[38;5;28mself\u001b[39m\u001b[38;5;241m.\u001b[39mBLK\u001b[38;5;241m.\u001b[39mElements(Blockname)\u001b[38;5;241m.\u001b[39mElements(\u001b[38;5;124m\"\u001b[39m\u001b[38;5;124mInput\u001b[39m\u001b[38;5;124m\"\u001b[39m)\u001b[38;5;241m.\u001b[39mElements(\u001b[38;5;124m\"\u001b[39m\u001b[38;5;124mDPPARM\u001b[39m\u001b[38;5;124m\"\u001b[39m)\u001b[38;5;241m.\u001b[39mValue \n\u001b[1;32m--> 684\u001b[0m Phase \u001b[38;5;241m=\u001b[39m\u001b[38;5;28mself\u001b[39m\u001b[38;5;241m.\u001b[39mBLK\u001b[38;5;241m.\u001b[39mElements(Blockname)\u001b[38;5;241m.\u001b[39mElements(\u001b[38;5;124m\"\u001b[39m\u001b[38;5;124mInput\u001b[39m\u001b[38;5;124m\"\u001b[39m)\u001b[38;5;241m.\u001b[39mElements(\u001b[38;5;124m\"\u001b[39m\u001b[38;5;124mPhase\u001b[39m\u001b[38;5;124m\"\u001b[39m)\u001b[38;5;241m.\u001b[39mValue  \u001b[38;5;66;03m#This can be V L or S\u001b[39;00m\n\u001b[0;32m    685\u001b[0m Phasenumber \u001b[38;5;241m=\u001b[39m\u001b[38;5;28mself\u001b[39m\u001b[38;5;241m.\u001b[39mBLK\u001b[38;5;241m.\u001b[39mElements(Blockname)\u001b[38;5;241m.\u001b[39mElements(\u001b[38;5;124m\"\u001b[39m\u001b[38;5;124mInput\u001b[39m\u001b[38;5;124m\"\u001b[39m)\u001b[38;5;241m.\u001b[39mElements(\u001b[38;5;124m\"\u001b[39m\u001b[38;5;124mNPhase\u001b[39m\u001b[38;5;124m\"\u001b[39m)\u001b[38;5;241m.\u001b[39mValue    \u001b[38;5;66;03m#This can be 1,2,3\u001b[39;00m\n\u001b[0;32m    686\u001b[0m TemperatureEstimation \u001b[38;5;241m=\u001b[39m\u001b[38;5;28mself\u001b[39m\u001b[38;5;241m.\u001b[39mBLK\u001b[38;5;241m.\u001b[39mElements(Blockname)\u001b[38;5;241m.\u001b[39mElements(\u001b[38;5;124m\"\u001b[39m\u001b[38;5;124mInput\u001b[39m\u001b[38;5;124m\"\u001b[39m)\u001b[38;5;241m.\u001b[39mElements(\u001b[38;5;124m\"\u001b[39m\u001b[38;5;124mT_EST\u001b[39m\u001b[38;5;124m\"\u001b[39m)\u001b[38;5;241m.\u001b[39mValue \n",
      "\u001b[1;31mAttributeError\u001b[0m: 'NoneType' object has no attribute 'Value'"
     ]
    }
   ],
   "source": [
    "FlashDrum_inp_dict = sim.BLK_HEATER_GET_ME_ALL_INPUTS_BACK(\"B2\")"
   ]
  }
 ],
 "metadata": {
  "kernelspec": {
   "display_name": "Python 3 (ipykernel)",
   "language": "python",
   "name": "python3"
  },
  "language_info": {
   "codemirror_mode": {
    "name": "ipython",
    "version": 3
   },
   "file_extension": ".py",
   "mimetype": "text/x-python",
   "name": "python",
   "nbconvert_exporter": "python",
   "pygments_lexer": "ipython3",
   "version": "3.11.5"
  }
 },
 "nbformat": 4,
 "nbformat_minor": 5
}
