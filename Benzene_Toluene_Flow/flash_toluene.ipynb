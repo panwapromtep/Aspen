{
 "cells": [
  {
   "cell_type": "code",
   "execution_count": 1,
   "id": "ffc00cea",
   "metadata": {},
   "outputs": [],
   "source": [
    "#from ast import AugAssign\n",
    "import sys\n",
    "import os\n",
    "# Add the parent directory to sys.path\n",
    "parent_dir = \"../../Aspen/\"\n",
    "sys.path.append(parent_dir)\n",
    "\n",
    "# print(\"current path: \", sys.path)\n",
    "from CodeLibrary import Simulation"
   ]
  },
  {
   "cell_type": "code",
   "execution_count": 2,
   "id": "a29e8b5a",
   "metadata": {},
   "outputs": [
    {
     "name": "stdout",
     "output_type": "stream",
     "text": [
      "The current Directory is :  \n",
      "C:\\Users\\ppromte1\\OneDrive - Johns Hopkins\\Process Design\\Aspen\\Benzene_Toluene_Flow\n",
      "The new Directory where you should also have your Aspen file is : \n",
      "C:\\Users\\ppromte1\\OneDrive - Johns Hopkins\\Process Design\\Aspen\\Benzene_Toluene_Flow\n",
      "The Aspen is active now. If you dont want to see aspen open again take VISIBITLY as False \n",
      "\n"
     ]
    }
   ],
   "source": [
    "sim = Simulation(AspenFileName= \"./Flash_Toluene_Benzene.bkp\", \n",
    "                 WorkingDirectoryPath= \"../Benzene_Toluene_Flow/\" ,\n",
    "                 VISIBILITY=False)"
   ]
  },
  {
   "cell_type": "code",
   "execution_count": 3,
   "id": "ba029786",
   "metadata": {},
   "outputs": [
    {
     "name": "stdout",
     "output_type": "stream",
     "text": [
      "Items held:\n",
      "FlashTypeOption (TP)\n",
      "Temperature (100.0)\n",
      "TemperatureChange (None)\n",
      "DegreesSuperheating (None)\n",
      "DegreesSubcooling (None)\n",
      "Pressure (10.0)\n",
      "Duty (None)\n",
      "Vaporfraction (None)\n",
      "PressureDropCorrelation (None)\n",
      "Phase (None)\n",
      "Phasenumber (2)\n",
      "TemperatureEstimation (None)\n",
      "PressureEstimation (None)\n",
      "MaximumIteration (30)\n",
      "ErrorTolerance (0.0001)\n",
      "We are going to change the temperature of the heater \n",
      " \n",
      "\n",
      "it should've changed now\n",
      "Items held:\n",
      "FlashTypeOption (TP)\n",
      "Temperature (200.0)\n",
      "TemperatureChange (None)\n",
      "DegreesSuperheating (None)\n",
      "DegreesSubcooling (None)\n",
      "Pressure (10.0)\n",
      "Duty (None)\n",
      "Vaporfraction (None)\n",
      "PressureDropCorrelation (None)\n",
      "Phase (None)\n",
      "Phasenumber (2)\n",
      "TemperatureEstimation (None)\n",
      "PressureEstimation (None)\n",
      "MaximumIteration (30)\n",
      "ErrorTolerance (0.0001)\n"
     ]
    },
    {
     "ename": "AttributeError",
     "evalue": "'NoneType' object has no attribute 'Value'",
     "output_type": "error",
     "traceback": [
      "\u001b[1;31m---------------------------------------------------------------------------\u001b[0m",
      "\u001b[1;31mAttributeError\u001b[0m                            Traceback (most recent call last)",
      "Cell \u001b[1;32mIn[3], line 11\u001b[0m\n\u001b[0;32m      9\u001b[0m HEATERInputDictionary \u001b[38;5;241m=\u001b[39m sim\u001b[38;5;241m.\u001b[39mBLK_HEATER_GET_ME_ALL_INPUTS_BACK(\u001b[38;5;124m\"\u001b[39m\u001b[38;5;124mB2\u001b[39m\u001b[38;5;124m\"\u001b[39m)\n\u001b[0;32m     10\u001b[0m sim\u001b[38;5;241m.\u001b[39mprint_dictionary(HEATERInputDictionary)\n\u001b[1;32m---> 11\u001b[0m flash_dit \u001b[38;5;241m=\u001b[39m sim\u001b[38;5;241m.\u001b[39mBLK_FLASH2_GET_ME_ALL_INPUTS_BACK(\u001b[38;5;124m\"\u001b[39m\u001b[38;5;124mB1\u001b[39m\u001b[38;5;124m\"\u001b[39m)\n",
      "File \u001b[1;32m~\\OneDrive - Johns Hopkins\\Process Design\\Aspen\\Benzene_Toluene_Flow\\../../Aspen\\CodeLibrary.py:1860\u001b[0m, in \u001b[0;36mSimulation.BLK_FLASH2_GET_ME_ALL_INPUTS_BACK\u001b[1;34m(self, Blockname)\u001b[0m\n\u001b[0;32m   1858\u001b[0m Duty \u001b[38;5;241m=\u001b[39m \u001b[38;5;28mself\u001b[39m\u001b[38;5;241m.\u001b[39mBLK\u001b[38;5;241m.\u001b[39mElements(Blockname)\u001b[38;5;241m.\u001b[39mElements(\u001b[38;5;124m\"\u001b[39m\u001b[38;5;124mInput\u001b[39m\u001b[38;5;124m\"\u001b[39m)\u001b[38;5;241m.\u001b[39mElements(\u001b[38;5;124m\"\u001b[39m\u001b[38;5;124mDUTY\u001b[39m\u001b[38;5;124m\"\u001b[39m)\u001b[38;5;241m.\u001b[39mValue \n\u001b[0;32m   1859\u001b[0m Vapor_fraction \u001b[38;5;241m=\u001b[39m \u001b[38;5;28mself\u001b[39m\u001b[38;5;241m.\u001b[39mBLK\u001b[38;5;241m.\u001b[39mElements(Blockname)\u001b[38;5;241m.\u001b[39mElements(\u001b[38;5;124m\"\u001b[39m\u001b[38;5;124mInput\u001b[39m\u001b[38;5;124m\"\u001b[39m)\u001b[38;5;241m.\u001b[39mElements(\u001b[38;5;124m\"\u001b[39m\u001b[38;5;124mVFRAC\u001b[39m\u001b[38;5;124m\"\u001b[39m)\u001b[38;5;241m.\u001b[39mValue\n\u001b[1;32m-> 1860\u001b[0m Phase \u001b[38;5;241m=\u001b[39m \u001b[38;5;28mself\u001b[39m\u001b[38;5;241m.\u001b[39mBLK\u001b[38;5;241m.\u001b[39mElements(Blockname)\u001b[38;5;241m.\u001b[39mElements(\u001b[38;5;124m\"\u001b[39m\u001b[38;5;124mInput\u001b[39m\u001b[38;5;124m\"\u001b[39m)\u001b[38;5;241m.\u001b[39mElements(\u001b[38;5;124m\"\u001b[39m\u001b[38;5;124mPHASE\u001b[39m\u001b[38;5;124m\"\u001b[39m)\u001b[38;5;241m.\u001b[39mValue \u001b[38;5;66;03m#This can be V L, 1\u001b[39;00m\n\u001b[0;32m   1861\u001b[0m Phasenumber \u001b[38;5;241m=\u001b[39m \u001b[38;5;28mself\u001b[39m\u001b[38;5;241m.\u001b[39mBLK\u001b[38;5;241m.\u001b[39mElements(Blockname)\u001b[38;5;241m.\u001b[39mElements(\u001b[38;5;124m\"\u001b[39m\u001b[38;5;124mInput\u001b[39m\u001b[38;5;124m\"\u001b[39m)\u001b[38;5;241m.\u001b[39mElements(\u001b[38;5;124m\"\u001b[39m\u001b[38;5;124mNPHASE\u001b[39m\u001b[38;5;124m\"\u001b[39m)\u001b[38;5;241m.\u001b[39mValue \u001b[38;5;66;03m#This can be 1,2,3    \u001b[39;00m\n\u001b[0;32m   1862\u001b[0m TemperatureEstimation \u001b[38;5;241m=\u001b[39m \u001b[38;5;28mself\u001b[39m\u001b[38;5;241m.\u001b[39mBLK\u001b[38;5;241m.\u001b[39mElements(Blockname)\u001b[38;5;241m.\u001b[39mElements(\u001b[38;5;124m\"\u001b[39m\u001b[38;5;124mInput\u001b[39m\u001b[38;5;124m\"\u001b[39m)\u001b[38;5;241m.\u001b[39mElements(\u001b[38;5;124m\"\u001b[39m\u001b[38;5;124mT_EST\u001b[39m\u001b[38;5;124m\"\u001b[39m)\u001b[38;5;241m.\u001b[39mValue \n",
      "\u001b[1;31mAttributeError\u001b[0m: 'NoneType' object has no attribute 'Value'"
     ]
    }
   ],
   "source": [
    "HEATERInputDictionary = sim.BLK_HEATER_GET_ME_ALL_INPUTS_BACK(\"B2\")\n",
    "sim.print_dictionary(HEATERInputDictionary)\n",
    "\n",
    "\n",
    "print(\"We are going to change the temperature of the heater \\n \\n\")\n",
    "sim.BLK_HEATER_Set_Temperature(\"B2\", 200)\n",
    "\n",
    "print(\"it should've changed now\")\n",
    "HEATERInputDictionary = sim.BLK_HEATER_GET_ME_ALL_INPUTS_BACK(\"B2\")\n",
    "sim.print_dictionary(HEATERInputDictionary)\n",
    "flash_dit = sim.BLK_FLASH2_GET_ME_ALL_INPUTS_BACK(\"B1\")\n"
   ]
  },
  {
   "cell_type": "code",
   "execution_count": null,
   "id": "e5ad148c",
   "metadata": {},
   "outputs": [],
   "source": [
    "print(type(HEATERInputDictionary))\n",
    "print(HEATERInputDictionary[\"Temperature\"])\n"
   ]
  },
  {
   "cell_type": "code",
   "execution_count": 5,
   "id": "a17c225d",
   "metadata": {},
   "outputs": [],
   "source": [
    "sim.EngineRun()\n",
    "# sim.DialogSuppression(TrueOrFalse= True)"
   ]
  },
  {
   "cell_type": "code",
   "execution_count": 7,
   "id": "76688a8d",
   "metadata": {},
   "outputs": [],
   "source": [
    "VAP_dict = sim.STRM_GET_OUTPUTS(\"VAP\")\n",
    "LIQ_dict = sim.STRM_GET_OUTPUTS(\"LIQ\")"
   ]
  },
  {
   "cell_type": "code",
   "execution_count": 8,
   "id": "94ad5389",
   "metadata": {},
   "outputs": [
    {
     "name": "stdout",
     "output_type": "stream",
     "text": [
      "{'Source': 'B1', 'Destination': None, 'Phase': 'VAPOR', 'PropertySet': 'PENG-ROB', 'VolumeFlow': 53106.9293, 'CompoundNameList': ['BENZENE', 'TOLUENE'], 'MoleFlowList': [50.0, 50.0], 'MassFlowList': [3905.682, 4607.026], 'MoleFracList': [0.5, 0.5], 'MassFracList': [0.458806058, 0.541193942], 'LiquidConcentrationList': [0.29048691, 0.70951309], 'VaporConcentrationList': [0.5, 0.5], 'VaporFraction': 1, 'LiquidFraction': 1, 'SolidFraction': 1}\n"
     ]
    }
   ],
   "source": [
    "print(VAP_dict)"
   ]
  },
  {
   "cell_type": "code",
   "execution_count": 4,
   "id": "91fe682c",
   "metadata": {},
   "outputs": [],
   "source": [
    "import numpy as np\n",
    "\n",
    "temp = np.linspace(0, 220, 60)\n",
    "pressure = np.linspace(0.1, 10, 60)\n",
    "\n",
    "results = []\n",
    "\n",
    "# run 2 by 2 design\n",
    "for t in temp:\n",
    "    for p in pressure:\n",
    "        sim.BLK_HEATER_Set_Temperature(\"B2\", t)\n",
    "        sim.BLK_FLASH2_Set_Pressure(\"B1\", p)\n",
    "        heater_dict = sim.BLK_HEATER_GET_ME_ALL_INPUTS_BACK(\"B2\")\n",
    "        sim.EngineRun()\n",
    "        VAP_dict = sim.STRM_GET_OUTPUTS(\"VAP\")\n",
    "        LIQ_dict = sim.STRM_GET_OUTPUTS(\"LIQ\")\n",
    "        \n",
    "        results.append({\n",
    "            'Temp Heater': t,\n",
    "            'Pressure Flash': p,\n",
    "            'HeaterInputs': heater_dict,\n",
    "            'VaporOutputs': VAP_dict,\n",
    "            'LiquidOutputs': LIQ_dict\n",
    "        })\n",
    "\n",
    "import pickle\n",
    "# Create a folder to save the results\n",
    "output_folder = \"simulation_results\"\n",
    "os.makedirs(output_folder, exist_ok=True)\n",
    "\n",
    "# Save the results to a pickle file\n",
    "with open(os.path.join(output_folder, 'results_panwa_2.pkl'), 'wb') as f:\n",
    "    pickle.dump(results, f)\n",
    "\n",
    "# Create a text file with an explanation\n",
    "with open(os.path.join(output_folder, 'README.txt'), 'w') as f:\n",
    "    f.write(\"This folder contains the results of the 2 by 2 design simulation.\\n\")\n",
    "    f.write(\"The results are saved in 'results.pkl' file.\\n\")\n",
    "    f.write(\"Each entry in the pickle file is a dictionary with the following keys:\\n\")\n",
    "    f.write(\" - 'Temp Heater': The temperature set for the heater.\\n\")\n",
    "    f.write(\" - 'Pressure Flash': The pressure set for the flash unit.\\n\")\n",
    "    f.write(\" - 'HeaterInputs': The inputs of the heater block.\\n\")\n",
    "    f.write(\" - 'VaporOutputs': The outputs of the vapor stream.\\n\")\n",
    "    f.write(\" - 'LiquidOutputs': The outputs of the liquid stream.\\n\")\n"
   ]
  },
  {
   "cell_type": "code",
   "execution_count": null,
   "id": "4a6091c2",
   "metadata": {},
   "outputs": [],
   "source": []
  },
  {
   "cell_type": "code",
   "execution_count": 5,
   "id": "949eb8ba",
   "metadata": {},
   "outputs": [
    {
     "name": "stdout",
     "output_type": "stream",
     "text": [
      "Closing Aspen \n",
      " \n",
      "\n",
      "C:\\Program Files\\AspenTech\\Aspen Plus V14.0\\GUI\\Xeq\\aspenplus.exe\n",
      "\n",
      "Aspen should be closed now\n"
     ]
    }
   ],
   "source": [
    "\n",
    "\n",
    "# print(\"we're gonna save dis shit\")\n",
    "# sim.SaveAs(\"./test.bkp\", True)\n",
    "\n",
    "\n",
    "print (\"Closing Aspen \\n \\n\")\n",
    "\n",
    "#remember to close Aspen everytime after\n",
    "sim.CloseAspen()"
   ]
  }
 ],
 "metadata": {
  "kernelspec": {
   "display_name": "Python 3 (ipykernel)",
   "language": "python",
   "name": "python3"
  },
  "language_info": {
   "codemirror_mode": {
    "name": "ipython",
    "version": 3
   },
   "file_extension": ".py",
   "mimetype": "text/x-python",
   "name": "python",
   "nbconvert_exporter": "python",
   "pygments_lexer": "ipython3",
   "version": "3.11.5"
  }
 },
 "nbformat": 4,
 "nbformat_minor": 5
}
