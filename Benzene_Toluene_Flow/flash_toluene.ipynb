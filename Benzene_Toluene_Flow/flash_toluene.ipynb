{
 "cells": [
  {
   "cell_type": "code",
   "execution_count": 3,
   "id": "ffc00cea",
   "metadata": {},
   "outputs": [],
   "source": [
    "#from ast import AugAssign\n",
    "import sys\n",
    "import os\n",
    "# Add the parent directory to sys.path\n",
    "parent_dir = \"../../Aspen/\"\n",
    "sys.path.append(parent_dir)\n",
    "\n",
    "# print(\"current path: \", sys.path)\n",
    "from CodeLibrary import Simulation"
   ]
  },
  {
   "cell_type": "code",
   "execution_count": 7,
   "id": "217d2b1d",
   "metadata": {},
   "outputs": [
    {
     "name": "stdout",
     "output_type": "stream",
     "text": [
      "hi, this is will's first attempt at getting the inteface to work\n"
     ]
    },
    {
     "ename": "NameError",
     "evalue": "name '__file__' is not defined",
     "output_type": "error",
     "traceback": [
      "\u001b[1;31m---------------------------------------------------------------------------\u001b[0m",
      "\u001b[1;31mNameError\u001b[0m                                 Traceback (most recent call last)",
      "Cell \u001b[1;32mIn[7], line 15\u001b[0m\n\u001b[0;32m     13\u001b[0m \u001b[38;5;28mprint\u001b[39m(\u001b[38;5;124m\"\u001b[39m\u001b[38;5;124mhi, this is will\u001b[39m\u001b[38;5;124m'\u001b[39m\u001b[38;5;124ms first attempt at getting the inteface to work\u001b[39m\u001b[38;5;124m\"\u001b[39m)\n\u001b[0;32m     14\u001b[0m \u001b[38;5;66;03m# Add the parent directory to sys.path\u001b[39;00m\n\u001b[1;32m---> 15\u001b[0m parent_dir \u001b[38;5;241m=\u001b[39m os\u001b[38;5;241m.\u001b[39mpath\u001b[38;5;241m.\u001b[39mabspath(os\u001b[38;5;241m.\u001b[39mpath\u001b[38;5;241m.\u001b[39mjoin(os\u001b[38;5;241m.\u001b[39mpath\u001b[38;5;241m.\u001b[39mdirname(\u001b[38;5;18m__file__\u001b[39m), \u001b[38;5;124m'\u001b[39m\u001b[38;5;124m..\u001b[39m\u001b[38;5;124m'\u001b[39m))\n\u001b[0;32m     16\u001b[0m sys\u001b[38;5;241m.\u001b[39mpath\u001b[38;5;241m.\u001b[39mappend(parent_dir)\n\u001b[0;32m     20\u001b[0m \u001b[38;5;28;01mfrom\u001b[39;00m \u001b[38;5;21;01mCodeLibrary\u001b[39;00m \u001b[38;5;28;01mimport\u001b[39;00m Simulation\n",
      "\u001b[1;31mNameError\u001b[0m: name '__file__' is not defined"
     ]
    }
   ],
   "source": []
  },
  {
   "cell_type": "code",
   "execution_count": 6,
   "id": "a29e8b5a",
   "metadata": {},
   "outputs": [
    {
     "name": "stdout",
     "output_type": "stream",
     "text": [
      "The current Directory is :  \n",
      "C:\\Users\\wsangpa1\\OneDrive - Johns Hopkins\\ASPEN\\Aspen\\Benzene_Toluene_Flow\n",
      "The new Directory where you should also have your Aspen file is : \n",
      "C:\\Users\\wsangpa1\\OneDrive - Johns Hopkins\\ASPEN\\Aspen\\Benzene_Toluene_Flow\n"
     ]
    },
    {
     "ename": "com_error",
     "evalue": "(-2147352567, 'Exception occurred.', (2041, 'Aspen Plus 40.0 OLE Services', 'Unable to open file.', None, 0, 0), None)",
     "output_type": "error",
     "traceback": [
      "\u001b[1;31m---------------------------------------------------------------------------\u001b[0m",
      "\u001b[1;31mcom_error\u001b[0m                                 Traceback (most recent call last)",
      "Cell \u001b[1;32mIn[6], line 1\u001b[0m\n\u001b[1;32m----> 1\u001b[0m sim \u001b[38;5;241m=\u001b[39m Simulation(AspenFileName\u001b[38;5;241m=\u001b[39m \u001b[38;5;124m\"\u001b[39m\u001b[38;5;124mFlash_Toluene_Benzene.bkp\u001b[39m\u001b[38;5;124m\"\u001b[39m, \n\u001b[0;32m      2\u001b[0m                  WorkingDirectoryPath\u001b[38;5;241m=\u001b[39m \u001b[38;5;124m\"\u001b[39m\u001b[38;5;124m../Benzene_Toluene_Flow/\u001b[39m\u001b[38;5;124m\"\u001b[39m ,\n\u001b[0;32m      3\u001b[0m                  VISIBILITY\u001b[38;5;241m=\u001b[39m\u001b[38;5;28;01mFalse\u001b[39;00m)\n",
      "File \u001b[1;32m~\\OneDrive - Johns Hopkins\\ASPEN\\Aspen\\Benzene_Toluene_Flow\\../../Aspen\\CodeLibrary.py:41\u001b[0m, in \u001b[0;36mSimulation.__init__\u001b[1;34m(self, AspenFileName, WorkingDirectoryPath, VISIBILITY)\u001b[0m\n\u001b[0;32m     39\u001b[0m \u001b[38;5;28mprint\u001b[39m(\u001b[38;5;124m\"\u001b[39m\u001b[38;5;124mThe new Directory where you should also have your Aspen file is : \u001b[39m\u001b[38;5;124m\"\u001b[39m)\n\u001b[0;32m     40\u001b[0m \u001b[38;5;28mprint\u001b[39m(os\u001b[38;5;241m.\u001b[39mgetcwd())          \n\u001b[1;32m---> 41\u001b[0m \u001b[38;5;28mself\u001b[39m\u001b[38;5;241m.\u001b[39mAspenSimulation\u001b[38;5;241m.\u001b[39mInitFromArchive2(os\u001b[38;5;241m.\u001b[39mpath\u001b[38;5;241m.\u001b[39mabspath(AspenFileName))\n\u001b[0;32m     42\u001b[0m \u001b[38;5;28mprint\u001b[39m(\u001b[38;5;124m\"\u001b[39m\u001b[38;5;124mThe Aspen is active now. If you dont want to see aspen open again take VISIBITLY as False \u001b[39m\u001b[38;5;130;01m\\n\u001b[39;00m\u001b[38;5;124m\"\u001b[39m)\n\u001b[0;32m     43\u001b[0m \u001b[38;5;28mself\u001b[39m\u001b[38;5;241m.\u001b[39mAspenSimulation\u001b[38;5;241m.\u001b[39mVisible \u001b[38;5;241m=\u001b[39m VISIBILITY\n",
      "File \u001b[1;32mC:\\ProgramData\\anaconda3\\Lib\\site-packages\\win32com\\gen_py\\8E567520-F9BA-11CF-90B2-0000C0A810C4x1033x21x0\\IHapp.py:127\u001b[0m, in \u001b[0;36mIHapp.InitFromArchive2\u001b[1;34m(self, filename, host_type, node, username, password, working_directory, failmode)\u001b[0m\n\u001b[0;32m    124\u001b[0m \u001b[38;5;28;01mdef\u001b[39;00m \u001b[38;5;21mInitFromArchive2\u001b[39m(\u001b[38;5;28mself\u001b[39m, filename\u001b[38;5;241m=\u001b[39mdefaultNamedNotOptArg, host_type\u001b[38;5;241m=\u001b[39mdefaultNamedOptArg, node\u001b[38;5;241m=\u001b[39mdefaultNamedOptArg, username\u001b[38;5;241m=\u001b[39mdefaultNamedOptArg\n\u001b[0;32m    125\u001b[0m \t\t, password\u001b[38;5;241m=\u001b[39mdefaultNamedOptArg, working_directory\u001b[38;5;241m=\u001b[39mdefaultNamedOptArg, failmode\u001b[38;5;241m=\u001b[39mdefaultNamedOptArg):\n\u001b[0;32m    126\u001b[0m \t\u001b[38;5;124m'\u001b[39m\u001b[38;5;124mOpens an archive and initializes.\u001b[39m\u001b[38;5;124m'\u001b[39m\n\u001b[1;32m--> 127\u001b[0m \t\u001b[38;5;28;01mreturn\u001b[39;00m \u001b[38;5;28mself\u001b[39m\u001b[38;5;241m.\u001b[39m_oleobj_\u001b[38;5;241m.\u001b[39mInvokeTypes(\u001b[38;5;241m1610743852\u001b[39m, LCID, \u001b[38;5;241m1\u001b[39m, (\u001b[38;5;241m24\u001b[39m, \u001b[38;5;241m0\u001b[39m), ((\u001b[38;5;241m16392\u001b[39m, \u001b[38;5;241m1\u001b[39m), (\u001b[38;5;241m12\u001b[39m, \u001b[38;5;241m17\u001b[39m), (\u001b[38;5;241m12\u001b[39m, \u001b[38;5;241m17\u001b[39m), (\u001b[38;5;241m12\u001b[39m, \u001b[38;5;241m17\u001b[39m), (\u001b[38;5;241m12\u001b[39m, \u001b[38;5;241m17\u001b[39m), (\u001b[38;5;241m12\u001b[39m, \u001b[38;5;241m17\u001b[39m), (\u001b[38;5;241m12\u001b[39m, \u001b[38;5;241m17\u001b[39m)),filename\n\u001b[0;32m    128\u001b[0m \t\t, host_type, node, username, password, working_directory\n\u001b[0;32m    129\u001b[0m \t\t, failmode)\n",
      "\u001b[1;31mcom_error\u001b[0m: (-2147352567, 'Exception occurred.', (2041, 'Aspen Plus 40.0 OLE Services', 'Unable to open file.', None, 0, 0), None)"
     ]
    }
   ],
   "source": [
    "sim = Simulation(AspenFileName= \"Flash_Toluene_Benzene.bkp\", \n",
    "                 WorkingDirectoryPath= \"../Benzene_Toluene_Flow/\" ,\n",
    "                 VISIBILITY=False)"
   ]
  },
  {
   "cell_type": "code",
   "execution_count": null,
   "id": "ba029786",
   "metadata": {},
   "outputs": [],
   "source": [
    "HEATERInputDictionary = sim.BLK_HEATER_GET_ME_ALL_INPUTS_BACK(\"B2\")\n",
    "sim.print_dictionary(HEATERInputDictionary)\n",
    "\n",
    "\n",
    "print(\"We are going to change the temperature of the heater \\n \\n\")\n",
    "sim.BLK_HEATER_Set_Temperature(\"B2\", 200)\n",
    "\n",
    "print(\"it should've changed now\")\n",
    "HEATERInputDictionary = sim.BLK_HEATER_GET_ME_ALL_INPUTS_BACK(\"B2\")\n",
    "sim.print_dictionary(HEATERInputDictionary)\n",
    "flash_dit = sim.BLK_FLASH2_GET_ME_ALL_INPUTS_BACK(\"B1\")\n"
   ]
  },
  {
   "cell_type": "code",
   "execution_count": null,
   "id": "e5ad148c",
   "metadata": {},
   "outputs": [],
   "source": [
    "print(type(HEATERInputDictionary))\n",
    "print(HEATERInputDictionary[\"Temperature\"])\n"
   ]
  },
  {
   "cell_type": "code",
   "execution_count": 5,
   "id": "a17c225d",
   "metadata": {},
   "outputs": [],
   "source": [
    "sim.EngineRun()\n",
    "# sim.DialogSuppression(TrueOrFalse= True)"
   ]
  },
  {
   "cell_type": "code",
   "execution_count": 7,
   "id": "76688a8d",
   "metadata": {},
   "outputs": [],
   "source": [
    "VAP_dict = sim.STRM_GET_OUTPUTS(\"VAP\")\n",
    "LIQ_dict = sim.STRM_GET_OUTPUTS(\"LIQ\")"
   ]
  },
  {
   "cell_type": "code",
   "execution_count": 8,
   "id": "94ad5389",
   "metadata": {},
   "outputs": [
    {
     "name": "stdout",
     "output_type": "stream",
     "text": [
      "{'Source': 'B1', 'Destination': None, 'Phase': 'VAPOR', 'PropertySet': 'PENG-ROB', 'VolumeFlow': 53106.9293, 'CompoundNameList': ['BENZENE', 'TOLUENE'], 'MoleFlowList': [50.0, 50.0], 'MassFlowList': [3905.682, 4607.026], 'MoleFracList': [0.5, 0.5], 'MassFracList': [0.458806058, 0.541193942], 'LiquidConcentrationList': [0.29048691, 0.70951309], 'VaporConcentrationList': [0.5, 0.5], 'VaporFraction': 1, 'LiquidFraction': 1, 'SolidFraction': 1}\n"
     ]
    }
   ],
   "source": [
    "print(VAP_dict)"
   ]
  },
  {
   "cell_type": "code",
   "execution_count": 4,
   "id": "91fe682c",
   "metadata": {},
   "outputs": [],
   "source": [
    "import numpy as np\n",
    "\n",
    "temp = np.linspace(0, 220, 60)\n",
    "pressure = np.linspace(0.1, 10, 60)\n",
    "\n",
    "results = []\n",
    "\n",
    "# run 2 by 2 design\n",
    "for t in temp:\n",
    "    for p in pressure:\n",
    "        sim.BLK_HEATER_Set_Temperature(\"B2\", t)\n",
    "        sim.BLK_FLASH2_Set_Pressure(\"B1\", p)\n",
    "        heater_dict = sim.BLK_HEATER_GET_ME_ALL_INPUTS_BACK(\"B2\")\n",
    "        sim.EngineRun()\n",
    "        VAP_dict = sim.STRM_GET_OUTPUTS(\"VAP\")\n",
    "        LIQ_dict = sim.STRM_GET_OUTPUTS(\"LIQ\")\n",
    "        \n",
    "        results.append({\n",
    "            'Temp Heater': t,\n",
    "            'Pressure Flash': p,\n",
    "            'HeaterInputs': heater_dict,\n",
    "            'VaporOutputs': VAP_dict,\n",
    "            'LiquidOutputs': LIQ_dict\n",
    "        })\n",
    "\n",
    "import pickle\n",
    "# Create a folder to save the results\n",
    "output_folder = \"simulation_results\"\n",
    "os.makedirs(output_folder, exist_ok=True)\n",
    "\n",
    "# Save the results to a pickle file\n",
    "with open(os.path.join(output_folder, 'results_panwa_2.pkl'), 'wb') as f:\n",
    "    pickle.dump(results, f)\n",
    "\n",
    "# Create a text file with an explanation\n",
    "with open(os.path.join(output_folder, 'README.txt'), 'w') as f:\n",
    "    f.write(\"This folder contains the results of the 2 by 2 design simulation.\\n\")\n",
    "    f.write(\"The results are saved in 'results.pkl' file.\\n\")\n",
    "    f.write(\"Each entry in the pickle file is a dictionary with the following keys:\\n\")\n",
    "    f.write(\" - 'Temp Heater': The temperature set for the heater.\\n\")\n",
    "    f.write(\" - 'Pressure Flash': The pressure set for the flash unit.\\n\")\n",
    "    f.write(\" - 'HeaterInputs': The inputs of the heater block.\\n\")\n",
    "    f.write(\" - 'VaporOutputs': The outputs of the vapor stream.\\n\")\n",
    "    f.write(\" - 'LiquidOutputs': The outputs of the liquid stream.\\n\")\n"
   ]
  },
  {
   "cell_type": "code",
   "execution_count": null,
   "id": "4a6091c2",
   "metadata": {},
   "outputs": [],
   "source": []
  },
  {
   "cell_type": "code",
   "execution_count": 5,
   "id": "949eb8ba",
   "metadata": {},
   "outputs": [
    {
     "name": "stdout",
     "output_type": "stream",
     "text": [
      "Closing Aspen \n",
      " \n",
      "\n",
      "C:\\Program Files\\AspenTech\\Aspen Plus V14.0\\GUI\\Xeq\\aspenplus.exe\n",
      "\n",
      "Aspen should be closed now\n"
     ]
    }
   ],
   "source": [
    "\n",
    "\n",
    "# print(\"we're gonna save dis shit\")\n",
    "# sim.SaveAs(\"./test.bkp\", True)\n",
    "\n",
    "\n",
    "print (\"Closing Aspen \\n \\n\")\n",
    "\n",
    "#remember to close Aspen everytime after\n",
    "sim.CloseAspen()"
   ]
  }
 ],
 "metadata": {
  "kernelspec": {
   "display_name": "Python 3 (ipykernel)",
   "language": "python",
   "name": "python3"
  },
  "language_info": {
   "codemirror_mode": {
    "name": "ipython",
    "version": 3
   },
   "file_extension": ".py",
   "mimetype": "text/x-python",
   "name": "python",
   "nbconvert_exporter": "python",
   "pygments_lexer": "ipython3",
   "version": "3.11.5"
  }
 },
 "nbformat": 4,
 "nbformat_minor": 5
}
