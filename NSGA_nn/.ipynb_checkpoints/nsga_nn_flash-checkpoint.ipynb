{
 "cells": [
  {
   "cell_type": "code",
   "execution_count": 1,
   "metadata": {},
   "outputs": [
    {
     "name": "stdout",
     "output_type": "stream",
     "text": [
      "Requirement already satisfied: torch in c:\\programdata\\anaconda3\\lib\\site-packages (2.6.0)\n",
      "Requirement already satisfied: filelock in c:\\programdata\\anaconda3\\lib\\site-packages (from torch) (3.9.0)\n",
      "Requirement already satisfied: typing-extensions>=4.10.0 in c:\\programdata\\anaconda3\\lib\\site-packages (from torch) (4.12.2)\n",
      "Requirement already satisfied: networkx in c:\\programdata\\anaconda3\\lib\\site-packages (from torch) (3.1)\n",
      "Requirement already satisfied: jinja2 in c:\\programdata\\anaconda3\\lib\\site-packages (from torch) (3.1.2)\n",
      "Requirement already satisfied: fsspec in c:\\programdata\\anaconda3\\lib\\site-packages (from torch) (2023.4.0)\n",
      "Requirement already satisfied: sympy==1.13.1 in c:\\programdata\\anaconda3\\lib\\site-packages (from torch) (1.13.1)\n",
      "Requirement already satisfied: mpmath<1.4,>=1.1.0 in c:\\programdata\\anaconda3\\lib\\site-packages (from sympy==1.13.1->torch) (1.3.0)\n",
      "Requirement already satisfied: MarkupSafe>=2.0 in c:\\programdata\\anaconda3\\lib\\site-packages (from jinja2->torch) (2.1.1)\n",
      "Note: you may need to restart the kernel to use updated packages.\n",
      "Requirement already satisfied: pymoo in c:\\programdata\\anaconda3\\lib\\site-packages (0.6.1.3)Note: you may need to restart the kernel to use updated packages.\n",
      "\n",
      "Requirement already satisfied: numpy>=1.15 in c:\\programdata\\anaconda3\\lib\\site-packages (from pymoo) (1.24.3)\n",
      "Requirement already satisfied: scipy>=1.1 in c:\\programdata\\anaconda3\\lib\\site-packages (from pymoo) (1.11.1)\n",
      "Requirement already satisfied: matplotlib>=3 in c:\\programdata\\anaconda3\\lib\\site-packages (from pymoo) (3.7.2)\n",
      "Requirement already satisfied: autograd>=1.4 in c:\\programdata\\anaconda3\\lib\\site-packages (from pymoo) (1.7.0)\n",
      "Requirement already satisfied: cma==3.2.2 in c:\\programdata\\anaconda3\\lib\\site-packages (from pymoo) (3.2.2)\n",
      "Requirement already satisfied: alive-progress in c:\\programdata\\anaconda3\\lib\\site-packages (from pymoo) (3.2.0)\n",
      "Requirement already satisfied: dill in c:\\programdata\\anaconda3\\lib\\site-packages (from pymoo) (0.3.6)\n",
      "Requirement already satisfied: Deprecated in c:\\programdata\\anaconda3\\lib\\site-packages (from pymoo) (1.2.18)\n",
      "Requirement already satisfied: contourpy>=1.0.1 in c:\\programdata\\anaconda3\\lib\\site-packages (from matplotlib>=3->pymoo) (1.0.5)\n",
      "Requirement already satisfied: cycler>=0.10 in c:\\programdata\\anaconda3\\lib\\site-packages (from matplotlib>=3->pymoo) (0.11.0)\n",
      "Requirement already satisfied: fonttools>=4.22.0 in c:\\programdata\\anaconda3\\lib\\site-packages (from matplotlib>=3->pymoo) (4.25.0)\n",
      "Requirement already satisfied: kiwisolver>=1.0.1 in c:\\programdata\\anaconda3\\lib\\site-packages (from matplotlib>=3->pymoo) (1.4.4)\n",
      "Requirement already satisfied: packaging>=20.0 in c:\\programdata\\anaconda3\\lib\\site-packages (from matplotlib>=3->pymoo) (23.1)\n",
      "Requirement already satisfied: pillow>=6.2.0 in c:\\programdata\\anaconda3\\lib\\site-packages (from matplotlib>=3->pymoo) (9.4.0)\n",
      "Requirement already satisfied: pyparsing<3.1,>=2.3.1 in c:\\programdata\\anaconda3\\lib\\site-packages (from matplotlib>=3->pymoo) (3.0.9)\n",
      "Requirement already satisfied: python-dateutil>=2.7 in c:\\programdata\\anaconda3\\lib\\site-packages (from matplotlib>=3->pymoo) (2.8.2)\n",
      "Requirement already satisfied: about-time==4.2.1 in c:\\programdata\\anaconda3\\lib\\site-packages (from alive-progress->pymoo) (4.2.1)\n",
      "Requirement already satisfied: grapheme==0.6.0 in c:\\programdata\\anaconda3\\lib\\site-packages (from alive-progress->pymoo) (0.6.0)\n",
      "Requirement already satisfied: wrapt<2,>=1.10 in c:\\programdata\\anaconda3\\lib\\site-packages (from Deprecated->pymoo) (1.14.1)\n",
      "Requirement already satisfied: six>=1.5 in c:\\programdata\\anaconda3\\lib\\site-packages (from python-dateutil>=2.7->matplotlib>=3->pymoo) (1.16.0)\n",
      "Requirement already satisfied: pywin32 in c:\\programdata\\anaconda3\\lib\\site-packages (305.1)\n",
      "Note: you may need to restart the kernel to use updated packages.\n"
     ]
    }
   ],
   "source": [
    "%pip install torch\n",
    "%pip install pymoo\n",
    "%pip install pywin32"
   ]
  },
  {
   "cell_type": "code",
   "execution_count": 3,
   "metadata": {},
   "outputs": [
    {
     "name": "stdout",
     "output_type": "stream",
     "text": [
      "Added to sys.path: C:\\Users\\ppromte1\\OneDrive - Johns Hopkins\\Process Design\\Aspen\n",
      "C:\\Users\\ppromte1\\OneDrive - Johns Hopkins\\Process Design\\Aspen\n",
      "['C:\\\\Users\\\\ppromte1\\\\OneDrive - Johns Hopkins\\\\Process Design\\\\Aspen\\\\NSGA_nn', 'C:\\\\ProgramData\\\\anaconda3\\\\python311.zip', 'C:\\\\ProgramData\\\\anaconda3\\\\DLLs', 'C:\\\\ProgramData\\\\anaconda3\\\\Lib', 'C:\\\\ProgramData\\\\anaconda3', '', 'C:\\\\ProgramData\\\\anaconda3\\\\Lib\\\\site-packages', 'C:\\\\ProgramData\\\\anaconda3\\\\Lib\\\\site-packages\\\\win32', 'C:\\\\ProgramData\\\\anaconda3\\\\Lib\\\\site-packages\\\\win32\\\\lib', 'C:\\\\ProgramData\\\\anaconda3\\\\Lib\\\\site-packages\\\\Pythonwin', 'C:\\\\Users\\\\ppromte1\\\\OneDrive - Johns Hopkins\\\\Process Design\\\\Aspen', 'C:\\\\Users\\\\ppromte1\\\\OneDrive - Johns Hopkins\\\\Process Design\\\\Aspen', 'C:\\\\Users\\\\ppromte1\\\\OneDrive - Johns Hopkins\\\\Process Design\\\\Aspen']\n"
     ]
    }
   ],
   "source": [
    "import os, sys\n",
    "\n",
    "# Get the absolute path of the notebook's directory\n",
    "notebook_dir = os.getcwd()\n",
    "\n",
    "# Navigate to the parent directory\n",
    "parent_dir = os.path.abspath(os.path.join(notebook_dir, \"..\"))\n",
    "\n",
    "# Add the parent directory to sys.path so we can import modules\n",
    "sys.path.append(parent_dir)\n",
    "\n",
    "# Verify the path\n",
    "print(f\"Added to sys.path: {parent_dir}\")\n",
    "\n",
    "# Add it to sys.path\n",
    "sys.path.append(parent_dir)\n",
    "\n",
    "print(parent_dir)\n",
    "from localityaware.module import *\n",
    "from NSGA_nn.nsga import *\n",
    "from FlashOperation.Refrig2DrumHeatExConstr1 import Refrig2DrumConstraintHeatExConstr"
   ]
  },
  {
   "cell_type": "code",
   "execution_count": 4,
   "metadata": {},
   "outputs": [],
   "source": [
    "import torch\n",
    "import numpy as np\n",
    "import matplotlib.pyplot as plt"
   ]
  },
  {
   "cell_type": "code",
   "execution_count": null,
   "metadata": {},
   "outputs": [
    {
     "name": "stdout",
     "output_type": "stream",
     "text": [
      "Generating new data...\n",
      "The current Directory is :  \n",
      "C:\\Users\\ppromte1\\OneDrive - Johns Hopkins\\Process Design\\Aspen\\NSGA_nn\n",
      "The new Directory where you should also have your Aspen file is : \n",
      "C:\\Users\\ppromte1\\OneDrive - Johns Hopkins\\Process Design\\Aspen\\FlashOperation\n",
      "Aspen is active now. If you dont want to see aspen open again take VISIBITLY as False \n",
      "\n"
     ]
    }
   ],
   "source": [
    "import torch\n",
    "import numpy as np\n",
    "import matplotlib.pyplot as plt\n",
    "import numpy as np\n",
    "import pickle\n",
    "import os\n",
    "import time\n",
    "\n",
    "# Define the file path for saving/loading the data\n",
    "data_file = \"flash_simulation_data_sim_new.pkl\"\n",
    "\n",
    "\n",
    "\n",
    "print(\"Generating new data...\")\n",
    "assSim = Refrig2DrumConstraintHeatExConstr(AspenFile=\"../FlashOperation/FlashOperation_HeatExchanger.bkp\",\n",
    "                                        wdpath=\"../FlashOperation\",\n",
    "                                        visibility=True,\n",
    "                                        Penalty=1e3)\n",
    "\n",
    "# Define parameter ranges\n",
    "flash_1_range = np.linspace(1, 20, 10)\n",
    "flash_2_range = np.linspace(1, 6, 10)\n",
    "\n",
    "start_time = time.time()  # Start timing\n",
    "data_sim = []\n",
    "for flash_1 in flash_1_range:\n",
    "    for flash_2 in flash_2_range:\n",
    "        print(flash_1, flash_2)\n",
    "        x_unflat = assSim.unflatten_params([float(flash_1), float(flash_2)])\n",
    "        data_sim.append([flash_1, flash_2, assSim.run_obj(x_unflat)])\n",
    "\n",
    "data_sim = np.array(data_sim)\n",
    "data_gen_time = time.time() - start_time  # Total time to generate data\n",
    "total_original_assSim_calls = len(data_sim)"
   ]
  },
  {
   "cell_type": "code",
   "execution_count": null,
   "metadata": {},
   "outputs": [],
   "source": [
    "print(len(data_sim))\n",
    "scaler = TorchMinMaxScaler((-1, 1), \n",
    "                           max_vals=[15.0, 15.0],\n",
    "                           min_vals=[-15.0, -15.0],\n",
    "                           min_y=0,\n",
    "                           max_y=1e6 ,\n",
    "                           scale_y=True)\n",
    "#scale data_sim \n",
    "data_sim_xscaled, data_sim_yscaled = scaler.transform(data_sim[:, :2], data_sim[:, 2])\n",
    "\n",
    "#recombine the data\n",
    "data_sim_scaled = np.column_stack([data_sim_xscaled, data_sim_yscaled])\n",
    "\n",
    "# **Initialize Model & Datasets**\n",
    "dataset = DynamicDataset(data_sim_scaled)\n",
    "model = MLP(2, [20,20, 20], 1)"
   ]
  },
  {
   "cell_type": "code",
   "execution_count": null,
   "metadata": {},
   "outputs": [],
   "source": [
    "out = optimize_surr_nsga(model=model,\n",
    "                   dataset=dataset,\n",
    "                   assSim=assSim,\n",
    "                   lrs={'first':1e-3, 'others':1e-2},\n",
    "                   epochs={'first':1000, 'others':200},\n",
    "                   min_vals=scaler.min_x,\n",
    "                   max_vals=scaler.max_x,\n",
    "                   scaler=scaler,\n",
    "                   device='cpu',\n",
    "                   iter=10,\n",
    "                   print_loss=True,\n",
    "                   print_it_data=True,\n",
    "                   pop_size=100,\n",
    "                   n_gen = 3,\n",
    "                   new_data_size=5,\n",
    "                   batch_size=25\n",
    "                   )"
   ]
  },
  {
   "cell_type": "code",
   "execution_count": null,
   "metadata": {},
   "outputs": [],
   "source": [
    "import os\n",
    "import datetime\n",
    "import pickle\n",
    "\n",
    "# Get current notebook name manually (or hardcode it here)\n",
    "notebook_name = \"flash\"  # or os.path.basename(__file__).replace(\".py\", \"\")\n",
    "\n",
    "# Get timestamp\n",
    "now = datetime.datetime.now().strftime(\"%Y-%m-%d_%H-%M-%S\")\n",
    "\n",
    "# Construct path: results/<notebook_name>/run_<timestamp>/\n",
    "base_dir = os.path.join(\"results\", notebook_name)\n",
    "save_dir = os.path.join(base_dir, f\"run_{now}\")\n",
    "os.makedirs(save_dir, exist_ok=True)\n",
    "\n",
    "print(f\"Results will be saved in: {save_dir}\")\n",
    "\n",
    "# Save out.pkl\n",
    "out[\"data_gen_time\"] = data_gen_time\n",
    "out[\"total_original_assSim_calls\"] = total_original_assSim_calls\n",
    "with open(os.path.join(save_dir, \"out.pkl\"), \"wb\") as f:\n",
    "    pickle.dump(out, f)\n",
    "\n",
    "# Save scaler\n",
    "with open(os.path.join(save_dir, \"scaler.pkl\"), \"wb\") as f:\n",
    "    pickle.dump(scaler, f)\n",
    "\n",
    "# Save dataset\n",
    "with open(os.path.join(save_dir, \"dataset.pkl\"), \"wb\") as f:\n",
    "    pickle.dump(dataset, f)\n",
    "\n",
    "print(f\"Saved all results in {save_dir}\")\n"
   ]
  }
 ],
 "metadata": {
  "kernelspec": {
   "display_name": "Python 3 (ipykernel)",
   "language": "python",
   "name": "python3"
  },
  "language_info": {
   "codemirror_mode": {
    "name": "ipython",
    "version": 3
   },
   "file_extension": ".py",
   "mimetype": "text/x-python",
   "name": "python",
   "nbconvert_exporter": "python",
   "pygments_lexer": "ipython3",
   "version": "3.11.5"
  }
 },
 "nbformat": 4,
 "nbformat_minor": 2
}
