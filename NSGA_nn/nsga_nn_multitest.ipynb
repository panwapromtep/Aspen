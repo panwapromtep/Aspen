{
 "cells": [
  {
   "cell_type": "code",
   "execution_count": 1,
   "metadata": {},
   "outputs": [],
   "source": [
    "# %pip install torch\n",
    "# %pip install pymoo\n",
    "# %pip install pywin32"
   ]
  },
  {
   "cell_type": "code",
   "execution_count": 2,
   "metadata": {},
   "outputs": [
    {
     "name": "stdout",
     "output_type": "stream",
     "text": [
      "Added to sys.path: /Users/panwapromtep/Library/CloudStorage/OneDrive-JohnsHopkins/Process Design/Aspen\n",
      "/Users/panwapromtep/Library/CloudStorage/OneDrive-JohnsHopkins/Process Design/Aspen\n",
      "['/Users/panwapromtep/miniforge3/envs/torch/lib/python312.zip', '/Users/panwapromtep/miniforge3/envs/torch/lib/python3.12', '/Users/panwapromtep/miniforge3/envs/torch/lib/python3.12/lib-dynload', '', '/Users/panwapromtep/miniforge3/envs/torch/lib/python3.12/site-packages', '/Users/panwapromtep/Library/CloudStorage/OneDrive-JohnsHopkins/Process Design/Aspen', '/Users/panwapromtep/Library/CloudStorage/OneDrive-JohnsHopkins/Process Design/Aspen', '/Users/panwapromtep/Library/CloudStorage/OneDrive-JohnsHopkins/Process Design/Aspen']\n"
     ]
    }
   ],
   "source": [
    "import os, sys\n",
    "\n",
    "# Get the absolute path of the notebook's directory\n",
    "notebook_dir = os.getcwd()\n",
    "\n",
    "# Navigate to the parent directory\n",
    "parent_dir = os.path.abspath(os.path.join(notebook_dir, \"..\"))\n",
    "\n",
    "# Add the parent directory to sys.path so we can import modules\n",
    "sys.path.append(parent_dir)\n",
    "\n",
    "# Verify the path\n",
    "print(f\"Added to sys.path: {parent_dir}\")\n",
    "\n",
    "# Add it to sys.path\n",
    "sys.path.append(parent_dir)\n",
    "\n",
    "print(parent_dir)\n",
    "from localityaware.module import *\n",
    "from NSGA_nn.nsga import *\n",
    "from Vinyl_Distillation.VCDistillationDummy import MultiTestDummy"
   ]
  },
  {
   "cell_type": "code",
   "execution_count": 3,
   "metadata": {},
   "outputs": [
    {
     "name": "stdout",
     "output_type": "stream",
     "text": [
      "Generating new data...\n",
      "MultiTestDummy: Initialized dummy simulation for multitest equation. No Aspen calls will be made.\n"
     ]
    }
   ],
   "source": [
    "import torch\n",
    "import numpy as np\n",
    "import matplotlib.pyplot as plt\n",
    "import torch\n",
    "import numpy as np\n",
    "import matplotlib.pyplot as plt\n",
    "import numpy as np\n",
    "import pickle\n",
    "import os\n",
    "import time\n",
    "\n",
    "# Define the file path for saving/loading the data\n",
    "data_file = \"vcdistil.pkl\"\n",
    "\n",
    "\n",
    "\n",
    "print(\"Generating new data...\")\n",
    "assSim = MultiTestDummy(AspenFile=\"Vinyl Chloride Distillation.bkp\", \n",
    "                        wdpath=\"../Vinyl_Distillation\", \n",
    "                        visibility=False)"
   ]
  },
  {
   "cell_type": "code",
   "execution_count": 4,
   "metadata": {},
   "outputs": [
    {
     "name": "stdout",
     "output_type": "stream",
     "text": [
      "First 5 LHS samples (each row corresponds to [x1, x2]):\n",
      "[[-0.28870908 -0.23317146]\n",
      " [-0.65524557 -1.27648773]\n",
      " [-1.80624639 -0.71650566]\n",
      " [-0.41668366  1.90211216]\n",
      " [ 1.07155475 -1.75346077]]\n"
     ]
    }
   ],
   "source": [
    "import numpy as np\n",
    "from scipy.stats import qmc\n",
    "\n",
    "# Number of samples you want to generate\n",
    "N = 100  # Adjust as needed\n",
    "\n",
    "# Define lower and upper bounds for the 2 decision variables for the MultiTestDummy\n",
    "lower_bounds = np.array([-2, -2])\n",
    "upper_bounds = np.array([2, 2])\n",
    "\n",
    "# Initialize the Latin Hypercube Sampler for 2 dimensions.\n",
    "sampler = qmc.LatinHypercube(d=2)\n",
    "sample_unit = sampler.random(n=N)  # Samples in [0, 1) with shape (N,2)\n",
    "\n",
    "# Scale the samples to the desired parameter ranges.\n",
    "samples_scaled = qmc.scale(sample_unit, lower_bounds, upper_bounds)\n",
    "\n",
    "# For debugging: print the first few samples.\n",
    "print(\"First 5 LHS samples (each row corresponds to [x1, x2]):\")\n",
    "print(samples_scaled[:5])"
   ]
  },
  {
   "cell_type": "code",
   "execution_count": 5,
   "metadata": {},
   "outputs": [
    {
     "name": "stdout",
     "output_type": "stream",
     "text": [
      "(100, 2)\n"
     ]
    },
    {
     "data": {
      "text/plain": [
       "<matplotlib.collections.PathCollection at 0x17518fcb0>"
      ]
     },
     "execution_count": 5,
     "metadata": {},
     "output_type": "execute_result"
    },
    {
     "data": {
      "image/png": "[encoded data removed]",
      "text/plain": [
       "<Figure size 800x600 with 1 Axes>"
      ]
     },
     "metadata": {},
     "output_type": "display_data"
    }
   ],
   "source": [
    "import numpy as np\n",
    "import matplotlib.pyplot as plt\n",
    "\n",
    "X_params = samples_scaled[:, :8]\n",
    "print(X_params.shape)\n",
    "# (N, 2) # plot in 2D only 2 var no CPA\n",
    "\n",
    "# Plotting the first two parameters\n",
    "plt.figure(figsize=(8, 6))\n",
    "plt.scatter(X_params[:, 0], X_params[:, 1], alpha=0.5)"
   ]
  },
  {
   "cell_type": "code",
   "execution_count": 6,
   "metadata": {},
   "outputs": [
    {
     "name": "stdout",
     "output_type": "stream",
     "text": [
      "shape of data_sim (100, 4)\n"
     ]
    }
   ],
   "source": [
    "# Start timing the data generation (simulation evaluations)\n",
    "start_time = time.time()\n",
    "\n",
    "data_sim = []\n",
    "\n",
    "for param_array in samples_scaled:\n",
    "    # Convert the 8 parameters into the expected input format\n",
    "    x_unflat = assSim.unflatten_params(param_array)\n",
    "    # Run the objective function (this is where the Aspen or dummy simulation is called)\n",
    "    cost = assSim.run_obj(x_unflat)\n",
    "    # Save the parameters and cost together; you can store as [p1, p2, ..., p8, cost]\n",
    "    # print(cost)\n",
    "    data_sim.append(list(param_array) + list(cost))\n",
    "print(\"shape of data_sim\", np.array(data_sim).shape)"
   ]
  },
  {
   "cell_type": "code",
   "execution_count": 7,
   "metadata": {},
   "outputs": [
    {
     "name": "stdout",
     "output_type": "stream",
     "text": [
      "Generated 100 simulation points in 0.01 seconds.\n"
     ]
    }
   ],
   "source": [
    "data_sim = np.array(data_sim)\n",
    "elapsed = time.time() - start_time\n",
    "print(f\"Generated {len(data_sim)} simulation points in {elapsed:.2f} seconds.\")\n",
    "\n",
    "# Save the dataset if needed (for example, to a pickle file)\n",
    "# import pickle\n",
    "# with open(\"distillation_data_sim.pkl\", \"wb\") as f:\n",
    "#     pickle.dump({\"data\": data_sim, \"time_sec\": elapsed}, f)\n",
    "\n",
    "data_sim = np.array(data_sim)\n",
    "data_gen_time = time.time() - start_time  # Total time to generate data\n",
    "total_original_assSim_calls = len(data_sim)"
   ]
  },
  {
   "cell_type": "code",
   "execution_count": 8,
   "metadata": {},
   "outputs": [
    {
     "data": {
      "image/png": "[encoded data removed]",
      "text/plain": [
       "<Figure size 1000x800 with 1 Axes>"
      ]
     },
     "metadata": {},
     "output_type": "display_data"
    }
   ],
   "source": [
    "import matplotlib.pyplot as plt\n",
    "import numpy as np\n",
    "\n",
    "# Replace this with your actual data.\n",
    "objectives = data_sim[:, -2:]  # Assuming the last two columns are the objectives\n",
    "plt.figure(figsize=(10, 8))\n",
    "plt.scatter(objectives[:, 0], objectives[:, 1], color='blue', marker='o', label=\"Solutions\")\n",
    "plt.xlabel('Total Annual Cost (TAC)')\n",
    "plt.ylabel('CO₂ Emissions')\n",
    "plt.title('Pareto Plot: TAC vs CO₂ Emissions')\n",
    "plt.legend()\n",
    "plt.grid(True)\n",
    "plt.show()\n"
   ]
  },
  {
   "cell_type": "code",
   "execution_count": 9,
   "metadata": {},
   "outputs": [
    {
     "name": "stdout",
     "output_type": "stream",
     "text": [
      "100\n",
      "Shape of scaled inputs: (100, 2)\n",
      "Shape of scaled outputs: (100, 2)\n",
      "Shape of combined scaled data: (100, 4)\n",
      "Dataset and model initialized.\n"
     ]
    }
   ],
   "source": [
    "print(len(data_sim))\n",
    "\n",
    "# Instantiate the scaler with provided ranges for 2-D inputs and 2-D outputs.\n",
    "scaler = TorchMinMaxScaler(\n",
    "    feature_range=(-1, 1), \n",
    "    max_vals=[2, 2],      # Decision variables x1, x2 range in [-2,2]\n",
    "    min_vals=[-2, -2],\n",
    "    scale_y=True,\n",
    "    min_y=[0, 0],         # Assume output min for f1 and f2 is 0\n",
    "    max_y=[900, 15]       # Approximate output max: f1 near 800 (margin to 900), f2 near 13-15\n",
    ")\n",
    "\n",
    "# Here, data_sim is assumed to be a NumPy array of shape (N, 4) where:\n",
    "# the first 2 columns are the decision variables,\n",
    "# and the last 2 columns are the corresponding objective values.\n",
    "# For scaling, we use:\n",
    "data_sim_xscaled, data_sim_yscaled = scaler.transform(data_sim[:, :2], data_sim[:, 2:])\n",
    "\n",
    "# Convert the resulting PyTorch tensors to NumPy arrays.\n",
    "data_sim_xscaled = data_sim_xscaled.detach().cpu().numpy()\n",
    "data_sim_yscaled = data_sim_yscaled.detach().cpu().numpy()\n",
    "\n",
    "# Check shapes for debugging:\n",
    "print(\"Shape of scaled inputs:\", data_sim_xscaled.shape)   # should be (N, 2)\n",
    "print(\"Shape of scaled outputs:\", data_sim_yscaled.shape)    # should be (N, 2)\n",
    "\n",
    "# Recombine scaled inputs and outputs into one array with 4 columns (2 + 2).\n",
    "data_sim_scaled = np.column_stack([data_sim_xscaled, data_sim_yscaled])\n",
    "print(\"Shape of combined scaled data:\", data_sim_scaled.shape)\n",
    "\n",
    "# **Initialize Model & Dataset**\n",
    "# The DynamicDataset class should now be initialized with num_inputs=2.\n",
    "dataset = DynamicDataset(data_sim_scaled, num_inputs=2)\n",
    "# Initialize an MLP with 2 input neurons and 2 output neurons; adjust hidden layers as desired.\n",
    "model = MLP(2, [50, 50, 20, 20, 50, 50], 2)\n",
    "\n",
    "print(\"Dataset and model initialized.\")"
   ]
  },
  {
   "cell_type": "code",
   "execution_count": 13,
   "metadata": {},
   "outputs": [],
   "source": [
    "from Vinyl_Distillation.VCDistillationDummy import MultiTestProblem\n",
    "problem = MultiTestProblem(model)"
   ]
  },
  {
   "cell_type": "code",
   "execution_count": 14,
   "metadata": {},
   "outputs": [
    {
     "name": "stdout",
     "output_type": "stream",
     "text": [
      "Iteration 0: Training surrogate model...\n"
     ]
    },
    {
     "name": "stderr",
     "output_type": "stream",
     "text": [
      "/Users/panwapromtep/miniforge3/envs/torch/lib/python3.12/site-packages/torch/nn/modules/loss.py:538: UserWarning: Using a target size (torch.Size([100, 1, 2])) that is different to the input size (torch.Size([100, 2])). This will likely lead to incorrect results due to broadcasting. Please ensure they have the same size.\n",
      "  return F.mse_loss(input, target, reduction=self.reduction)\n"
     ]
    },
    {
     "name": "stdout",
     "output_type": "stream",
     "text": [
      "Epoch 0: Total Loss=0.3633\n",
      "Epoch 50: Total Loss=0.1539\n",
      "Epoch 100: Total Loss=0.1498\n",
      "Epoch 150: Total Loss=0.1495\n",
      "==========================================================\n",
      "n_gen  |  n_eval  | n_nds  |      eps      |   indicator  \n",
      "==========================================================\n",
      "     1 |      400 |      7 |             - |             -\n",
      "     2 |      800 |     16 |  0.0803252244 |         ideal\n",
      "     3 |     1200 |     23 |  0.0236179230 |         ideal\n",
      "     4 |     1600 |     32 |  0.0764758867 |         ideal\n",
      "     5 |     2000 |     35 |  0.0103286980 |         ideal\n",
      "optim_input_scaled.shape: (35, 2)\n",
      "optim_input_scaled: [[-1.99258784 -0.65741772]\n",
      " [-1.9883957  -0.4838685 ]\n",
      " [-1.99688082 -0.25641721]\n",
      " [ 1.99190215  1.77159732]\n",
      " [-1.99258784 -0.60700554]\n",
      " [-1.95947936 -0.07788923]\n",
      " [-1.98068101  0.12160857]\n",
      " [-1.93944738 -0.36975203]\n",
      " [-1.99340329  0.2281192 ]\n",
      " [-1.97964449  0.12287601]\n",
      " [-1.99184329 -0.56982575]\n",
      " [-1.99817091 -0.57974713]\n",
      " [-1.99178861 -0.84855333]\n",
      " [-1.9943613  -1.87806074]\n",
      " [-1.88862145 -0.02922887]\n",
      " [-1.99105114 -0.77686796]\n",
      " [-1.94223497 -0.42598302]\n",
      " [-1.99663321 -0.60774209]\n",
      " [-1.98643597 -1.27867053]\n",
      " [-1.9943613  -1.78579781]\n",
      " [ 1.99808534  1.69091062]\n",
      " [ 1.99776725  1.9651868 ]\n",
      " [ 1.99921692  1.72278677]\n",
      " [-1.99534887 -1.04034835]\n",
      " [-1.98681709 -0.42550978]\n",
      " [-1.9710853  -0.48100489]\n",
      " [-1.98094819 -0.18665804]\n",
      " [-1.99566414 -0.72509813]\n",
      " [-1.99588786 -0.75187756]\n",
      " [-1.97076568 -0.42941583]\n",
      " [-1.98855412 -0.5159145 ]\n",
      " [-1.98086744 -0.05312778]\n",
      " [-1.99528481 -1.95096625]\n",
      " [ 1.99915017  1.9966638 ]\n",
      " [-1.96237587 -0.03026131]]\n",
      "optim_input.shape: (35, 2)\n",
      "assSim_call_count: 35\n",
      "Evaluated samples shape: (35, 4)\n",
      "Iteration 0: Evaluated population shape (35, 2), outputs length: 35, dataset size (140, 4)\n",
      "Iteration 1: Training surrogate model...\n",
      "Epoch 0: Total Loss=3.6440\n"
     ]
    },
    {
     "name": "stderr",
     "output_type": "stream",
     "text": [
      "/Users/panwapromtep/miniforge3/envs/torch/lib/python3.12/site-packages/torch/nn/modules/loss.py:538: UserWarning: Using a target size (torch.Size([140, 1, 2])) that is different to the input size (torch.Size([140, 2])). This will likely lead to incorrect results due to broadcasting. Please ensure they have the same size.\n",
      "  return F.mse_loss(input, target, reduction=self.reduction)\n"
     ]
    },
    {
     "name": "stdout",
     "output_type": "stream",
     "text": [
      "Epoch 50: Total Loss=2.7146\n",
      "Epoch 100: Total Loss=2.7051\n",
      "Epoch 150: Total Loss=2.7039\n",
      "Using previous population of size 400\n",
      "==========================================================\n",
      "n_gen  |  n_eval  | n_nds  |      eps      |   indicator  \n",
      "==========================================================\n",
      "     1 |      400 |     14 |             - |             -\n",
      "     2 |      800 |      3 |  1.0438567572 |         ideal\n",
      "     3 |     1200 |      2 |  1.4554845876 |         ideal\n",
      "     4 |     1600 |      4 |  0.1827485524 |         ideal\n",
      "     5 |     2000 |     10 |  0.1282509900 |         ideal\n",
      "optim_input_scaled.shape: (10, 2)\n",
      "optim_input_scaled: [[1.46594524 1.01884802]\n",
      " [1.50078974 0.88923284]\n",
      " [1.35506394 1.21428836]\n",
      " [1.3652458  1.13613948]\n",
      " [1.48939192 0.9840336 ]\n",
      " [1.53561257 0.98371207]\n",
      " [1.46594524 1.04110228]\n",
      " [1.38430495 1.14042144]\n",
      " [1.28504888 1.26957052]\n",
      " [1.296145   1.28149542]]\n",
      "optim_input.shape: (10, 2)\n",
      "assSim_call_count: 50\n",
      "Evaluated samples shape: (10, 4)\n",
      "Iteration 1: Evaluated population shape (10, 2), outputs length: 10, dataset size (155, 4)\n",
      "Iteration 2: Training surrogate model...\n",
      "Epoch 0: Total Loss=2.6164\n"
     ]
    },
    {
     "name": "stderr",
     "output_type": "stream",
     "text": [
      "/Users/panwapromtep/miniforge3/envs/torch/lib/python3.12/site-packages/torch/nn/modules/loss.py:538: UserWarning: Using a target size (torch.Size([155, 1, 2])) that is different to the input size (torch.Size([155, 2])). This will likely lead to incorrect results due to broadcasting. Please ensure they have the same size.\n",
      "  return F.mse_loss(input, target, reduction=self.reduction)\n"
     ]
    },
    {
     "name": "stdout",
     "output_type": "stream",
     "text": [
      "Epoch 50: Total Loss=2.6005\n",
      "Epoch 100: Total Loss=2.6004\n",
      "Epoch 150: Total Loss=2.6004\n",
      "Using previous population of size 400\n",
      "==========================================================\n",
      "n_gen  |  n_eval  | n_nds  |      eps      |   indicator  \n",
      "==========================================================\n",
      "     1 |      400 |     50 |             - |             -\n",
      "     2 |      800 |     48 |  0.2926615050 |         ideal\n",
      "     3 |     1200 |     71 |  0.1150536076 |         ideal\n",
      "     4 |     1600 |     93 |  0.0184208460 |         ideal\n",
      "     5 |     2000 |    123 |  0.1382338657 |         ideal\n",
      "optim_input_scaled.shape: (123, 2)\n",
      "optim_input_scaled: [[ 1.56730052  1.60829651]\n",
      " [ 1.63479017  1.56252043]\n",
      " [ 1.62411527  1.58946245]\n",
      " [ 1.63372704  1.59228392]\n",
      " [ 1.62697274  1.60291877]\n",
      " [ 1.50078974  1.69217493]\n",
      " [-1.15078286 -1.93262295]\n",
      " [ 1.61013944  1.63505257]\n",
      " [ 1.43947657  1.75758881]\n",
      " [ 1.54281622  1.6860015 ]\n",
      " [ 1.61140898  1.6345405 ]\n",
      " [ 1.31683385  1.83950363]\n",
      " [ 1.53031207  1.72131799]\n",
      " [ 1.36748283  1.83995528]\n",
      " [-0.67803371 -1.93422866]\n",
      " [-0.95551134  1.17021544]\n",
      " [ 1.57324974  1.63596277]\n",
      " [ 1.57825549  1.63505257]\n",
      " [-1.08221099 -1.92875537]\n",
      " [ 1.36748283  1.82046217]\n",
      " [-0.83588612  1.20509493]\n",
      " [-1.23535827 -1.95258104]\n",
      " [ 1.52889846  1.66446491]\n",
      " [ 1.5081982   1.67030383]\n",
      " [ 1.56252824  1.67415682]\n",
      " [-0.65448388  1.09631686]\n",
      " [ 1.63248266  1.60291877]\n",
      " [ 1.61797282  1.6277027 ]\n",
      " [ 1.5057449   1.66498603]\n",
      " [ 1.45490691  1.78017057]\n",
      " [ 1.53467776  1.71832543]\n",
      " [ 1.52449789  1.67921074]\n",
      " [ 1.35927892  1.77303978]\n",
      " [-1.14907672 -1.95258104]\n",
      " [ 1.38817992  1.83995528]\n",
      " [-1.17004633 -1.92875537]\n",
      " [ 1.64608789  1.57706357]\n",
      " [ 1.48825882  1.73171197]\n",
      " [ 1.54776954  1.68737009]\n",
      " [ 1.52976418  1.70897661]\n",
      " [-0.62766815 -1.93422866]\n",
      " [ 1.42120047  1.79014781]\n",
      " [ 1.62108449  1.6346539 ]\n",
      " [ 1.35845388  1.87464407]\n",
      " [ 1.52889846  1.68272797]\n",
      " [ 1.46462487  1.79510884]\n",
      " [ 1.26064022  1.9341504 ]\n",
      " [ 1.31967494  1.8671828 ]\n",
      " [-1.56463736 -1.95258104]\n",
      " [ 1.36811612  1.86447934]\n",
      " [-1.45215422 -1.93831303]\n",
      " [ 1.63541521  1.61863885]\n",
      " [-0.81008172 -1.89567025]\n",
      " [ 1.45328166  1.8023851 ]\n",
      " [-0.81865121 -1.88974649]\n",
      " [ 1.58471662  1.59653449]\n",
      " [ 1.57755203  1.64778846]\n",
      " [ 1.56492208  1.62746163]\n",
      " [ 1.35635354  1.94580299]\n",
      " [ 1.57324974  1.61163215]\n",
      " [-1.35145273 -1.9108921 ]\n",
      " [-1.08221099 -1.99926037]\n",
      " [-0.93606482  1.00478473]\n",
      " [ 1.48374325  1.75236578]\n",
      " [ 1.4122809   1.78752327]\n",
      " [ 1.63437927  1.63060922]\n",
      " [ 1.26064022  1.98933435]\n",
      " [ 1.31493985  1.87606942]\n",
      " [ 1.33769843  1.97616643]\n",
      " [ 1.54552776  1.65184129]\n",
      " [ 1.55922061  1.68737009]\n",
      " [-0.78621112 -1.92875537]\n",
      " [ 1.56128683  1.69524541]\n",
      " [ 1.49414869  1.71771851]\n",
      " [-0.62766815 -1.94723542]\n",
      " [ 1.47979867  1.72863649]\n",
      " [ 1.63224802  1.58422357]\n",
      " [-0.87530771 -1.88974649]\n",
      " [-0.77988452  1.25679765]\n",
      " [ 1.31967494  1.94132454]\n",
      " [ 1.55688306  1.68005001]\n",
      " [ 1.62753157  1.56766708]\n",
      " [ 1.61140898  1.64962124]\n",
      " [-0.46750293  1.40036396]\n",
      " [-0.65325191 -1.93422866]\n",
      " [ 1.24845216  1.94008409]\n",
      " [-1.35145273 -1.97007851]\n",
      " [-1.30720248 -1.93231087]\n",
      " [-1.08221099 -1.96942335]\n",
      " [-0.8537779   1.21509437]\n",
      " [-0.52936427 -1.96126521]\n",
      " [ 1.26064022  1.89737687]\n",
      " [ 1.61720182  1.60367601]\n",
      " [-1.4824854  -1.83945848]\n",
      " [ 1.32195748  1.77645266]\n",
      " [ 1.35082847  1.81845943]\n",
      " [ 1.31445888  1.87269534]\n",
      " [-1.45518923 -1.94367093]\n",
      " [-1.08221099 -1.99159401]\n",
      " [ 1.26577124  1.90806693]\n",
      " [-0.68452344  1.36151943]\n",
      " [ 1.59332572  1.68971174]\n",
      " [ 1.44527021  1.73964653]\n",
      " [-0.62766815  1.45583857]\n",
      " [-1.14907672 -1.97411862]\n",
      " [ 1.50954024  1.76391191]\n",
      " [-0.67803371 -1.99574716]\n",
      " [ 1.61565566  1.58050202]\n",
      " [-1.25384744 -1.92620141]\n",
      " [ 1.41372378  1.83857991]\n",
      " [-0.36398559 -1.95258104]\n",
      " [-1.31428805 -1.92875537]\n",
      " [ 1.54368635  1.66982529]\n",
      " [ 1.31127827  1.83566652]\n",
      " [-0.78145661 -1.92875537]\n",
      " [ 1.30873161  1.83125214]\n",
      " [ 1.56631623  1.69685695]\n",
      " [-1.08221099 -1.98037436]\n",
      " [-1.35137054 -1.8397081 ]\n",
      " [-1.43736498 -1.93262295]\n",
      " [-0.72943712 -1.95258104]\n",
      " [-0.3258478   1.40134946]\n",
      " [ 1.31165073  1.87828987]]\n",
      "optim_input.shape: (123, 2)\n",
      "assSim_call_count: 178\n",
      "Evaluated samples shape: (123, 4)\n",
      "Iteration 2: Evaluated population shape (123, 2), outputs length: 123, dataset size (283, 4)\n",
      "Iteration 3: Training surrogate model...\n",
      "Epoch 0: Total Loss=6.7182\n"
     ]
    },
    {
     "name": "stderr",
     "output_type": "stream",
     "text": [
      "/Users/panwapromtep/miniforge3/envs/torch/lib/python3.12/site-packages/torch/nn/modules/loss.py:538: UserWarning: Using a target size (torch.Size([256, 1, 2])) that is different to the input size (torch.Size([256, 2])). This will likely lead to incorrect results due to broadcasting. Please ensure they have the same size.\n",
      "  return F.mse_loss(input, target, reduction=self.reduction)\n",
      "/Users/panwapromtep/miniforge3/envs/torch/lib/python3.12/site-packages/torch/nn/modules/loss.py:538: UserWarning: Using a target size (torch.Size([27, 1, 2])) that is different to the input size (torch.Size([27, 2])). This will likely lead to incorrect results due to broadcasting. Please ensure they have the same size.\n",
      "  return F.mse_loss(input, target, reduction=self.reduction)\n"
     ]
    },
    {
     "name": "stdout",
     "output_type": "stream",
     "text": [
      "Epoch 50: Total Loss=5.0177\n",
      "Epoch 100: Total Loss=4.7321\n",
      "Epoch 150: Total Loss=5.6430\n",
      "Using previous population of size 400\n",
      "==========================================================\n",
      "n_gen  |  n_eval  | n_nds  |      eps      |   indicator  \n",
      "==========================================================\n",
      "     1 |      400 |      1 |             - |             -\n",
      "     2 |      800 |      2 |  6.7383986769 |         ideal\n",
      "     3 |     1200 |      5 |  0.7645154637 |         ideal\n",
      "     4 |     1600 |      9 |  0.4304499806 |         ideal\n",
      "     5 |     2000 |     16 |  0.3358513890 |         ideal\n",
      "optim_input_scaled.shape: (16, 2)\n",
      "optim_input_scaled: [[-0.82480374 -1.27709871]\n",
      " [-1.08550101 -1.02214931]\n",
      " [ 0.23517761 -1.21693314]\n",
      " [-0.89412159 -1.15143924]\n",
      " [-0.98611964 -1.14588761]\n",
      " [-0.79829996 -1.27709871]\n",
      " [-1.18717832 -0.76276205]\n",
      " [-1.09672406 -0.97364271]\n",
      " [-0.99559787 -1.130515  ]\n",
      " [-0.77035488 -1.27476797]\n",
      " [ 0.23517761 -1.21626068]\n",
      " [-1.2335164  -0.61252603]\n",
      " [-1.04149731 -1.09111984]\n",
      " [-0.91918006 -1.15295213]\n",
      " [ 0.2518278   0.04280382]\n",
      " [-0.95731159 -1.12428757]]\n",
      "optim_input.shape: (16, 2)\n",
      "assSim_call_count: 199\n",
      "Evaluated samples shape: (16, 4)\n",
      "Iteration 3: Evaluated population shape (16, 2), outputs length: 16, dataset size (304, 4)\n",
      "Iteration 4: Training surrogate model...\n",
      "Epoch 0: Total Loss=4.9828\n"
     ]
    },
    {
     "name": "stderr",
     "output_type": "stream",
     "text": [
      "/Users/panwapromtep/miniforge3/envs/torch/lib/python3.12/site-packages/torch/nn/modules/loss.py:538: UserWarning: Using a target size (torch.Size([48, 1, 2])) that is different to the input size (torch.Size([48, 2])). This will likely lead to incorrect results due to broadcasting. Please ensure they have the same size.\n",
      "  return F.mse_loss(input, target, reduction=self.reduction)\n"
     ]
    },
    {
     "name": "stdout",
     "output_type": "stream",
     "text": [
      "Epoch 50: Total Loss=4.9545\n",
      "Epoch 100: Total Loss=4.9187\n",
      "Epoch 150: Total Loss=4.7518\n",
      "Using previous population of size 400\n",
      "==========================================================\n",
      "n_gen  |  n_eval  | n_nds  |      eps      |   indicator  \n",
      "==========================================================\n",
      "     1 |      400 |      2 |             - |             -\n",
      "     2 |      800 |      3 |  0.6944750975 |         ideal\n",
      "     3 |     1200 |      3 |  0.1425065284 |         ideal\n",
      "     4 |     1600 |      4 |  0.6073863794 |         ideal\n",
      "     5 |     2000 |      4 |  0.0233999142 |         ideal\n",
      "optim_input_scaled.shape: (4, 2)\n",
      "optim_input_scaled: [[-1.36202897  0.1136032 ]\n",
      " [-1.24850658  0.05909891]\n",
      " [ 0.14222249  0.0539628 ]\n",
      " [ 0.01221712  0.04280382]]\n",
      "optim_input.shape: (4, 2)\n",
      "assSim_call_count: 208\n",
      "Evaluated samples shape: (4, 4)\n",
      "Iteration 4: Evaluated population shape (4, 2), outputs length: 4, dataset size (313, 4)\n"
     ]
    }
   ],
   "source": [
    "out = optimize_surr_nsga(model=model,\n",
    "                   dataset=dataset,\n",
    "                   assSim=assSim,\n",
    "                   problem=problem,\n",
    "                   lrs={'first':1e-3, 'others':1e-3},\n",
    "                   epochs={'first':200, 'others':200},\n",
    "                   min_vals=scaler.min_x,\n",
    "                   max_vals=scaler.max_x,\n",
    "                   scaler=scaler,\n",
    "                   device='cpu',\n",
    "                   iter=5,\n",
    "                   print_loss=True,\n",
    "                   print_it_data=True,\n",
    "                   pop_size=400,\n",
    "                   n_gen = 5,\n",
    "                   new_data_size=5,\n",
    "                   batch_size=25\n",
    "                   )"
   ]
  },
  {
   "cell_type": "code",
   "execution_count": 15,
   "metadata": {},
   "outputs": [
    {
     "name": "stdout",
     "output_type": "stream",
     "text": [
      "/Users/panwapromtep/Library/CloudStorage/OneDrive-JohnsHopkins/Process Design/Aspen/NSGA_nn\n",
      "../NSGA_nn/results/multitest/run_2025-04-14_14-26-01\n",
      "Results will be saved in: ../NSGA_nn/results/multitest/run_2025-04-14_14-26-01\n",
      "Saved all results in ../NSGA_nn/results/multitest/run_2025-04-14_14-26-01\n"
     ]
    }
   ],
   "source": [
    "import os\n",
    "import datetime\n",
    "import pickle\n",
    "\n",
    "print(os.getcwd())\n",
    "# Get current notebook name manually (or hardcode it here)\n",
    "notebook_name = \"multitest\"  # or os.path.basename(__file__).replace(\".py\", \"\")\n",
    "\n",
    "# Get timestamp\n",
    "now = datetime.datetime.now().strftime(\"%Y-%m-%d_%H-%M-%S\")\n",
    "\n",
    "# Construct path: results/<notebook_name>/run_<timestamp>/\n",
    "base_dir = os.path.join(\"../NSGA_nn/results\", notebook_name)\n",
    "save_dir = os.path.join(base_dir, f\"run_{now}\")\n",
    "os.makedirs(save_dir, exist_ok=True)\n",
    "print(save_dir)\n",
    "\n",
    "print(f\"Results will be saved in: {save_dir}\")\n",
    "\n",
    "# Save out.pkl\n",
    "out[\"data_gen_time\"] = data_gen_time\n",
    "out[\"total_original_assSim_calls\"] = total_original_assSim_calls\n",
    "with open(os.path.join(save_dir, \"out.pkl\"), \"wb\") as f:\n",
    "    pickle.dump(out, f)\n",
    "\n",
    "# Save scaler\n",
    "with open(os.path.join(save_dir, \"scaler.pkl\"), \"wb\") as f:\n",
    "    pickle.dump(scaler, f)\n",
    "\n",
    "# Save dataset\n",
    "with open(os.path.join(save_dir, \"dataset.pkl\"), \"wb\") as f:\n",
    "    pickle.dump(dataset, f)\n",
    "\n",
    "print(f\"Saved all results in {save_dir}\")\n"
   ]
  }
 ],
 "metadata": {
  "kernelspec": {
   "display_name": "torch",
   "language": "python",
   "name": "python3"
  },
  "language_info": {
   "codemirror_mode": {
    "name": "ipython",
    "version": 3
   },
   "file_extension": ".py",
   "mimetype": "text/x-python",
   "name": "python",
   "nbconvert_exporter": "python",
   "pygments_lexer": "ipython3",
   "version": "3.12.5"
  }
 },
 "nbformat": 4,
 "nbformat_minor": 2
}
