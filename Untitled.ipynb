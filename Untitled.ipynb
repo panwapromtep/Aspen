{
 "cells": [
  {
   "cell_type": "code",
   "execution_count": null,
   "id": "85015fb9",
   "metadata": {},
   "outputs": [],
   "source": []
  },
  {
   "cell_type": "code",
   "execution_count": 3,
   "id": "62fe2b6c",
   "metadata": {},
   "outputs": [
    {
     "name": "stdout",
     "output_type": "stream",
     "text": [
      "./cache_pywin\n"
     ]
    }
   ],
   "source": [
    "print(os.environ.get('PYWIN32_GEN_PATH')) "
   ]
  },
  {
   "cell_type": "code",
   "execution_count": 4,
   "id": "1cc83168",
   "metadata": {},
   "outputs": [],
   "source": [
    "import os\n",
    "\n",
    "# Define the path where you want to create the folder\n",
    "cache_dir = r'./cache_pywin'\n",
    "# Check if the folder already exists, and create it if not\n",
    "if not os.path.exists(cache_dir):\n",
    "    os.makedirs(cache_dir)\n",
    "\n",
    "# Set the environment variable to the new folder path\n",
    "os.environ['PYWIN32_GEN_PATH'] = cache_dir"
   ]
  },
  {
   "cell_type": "code",
   "execution_count": 5,
   "id": "caf16f95",
   "metadata": {},
   "outputs": [
    {
     "ename": "PermissionError",
     "evalue": "[WinError 5] Access is denied: 'C:\\\\ProgramData\\\\anaconda3\\\\Lib\\\\site-packages\\\\win32com\\\\gen_py\\\\8E567520-F9BA-11CF-90B2-0000C0A810C4x1033x21x0'",
     "output_type": "error",
     "traceback": [
      "\u001b[1;31m---------------------------------------------------------------------------\u001b[0m",
      "\u001b[1;31mPermissionError\u001b[0m                           Traceback (most recent call last)",
      "Cell \u001b[1;32mIn[5], line 1\u001b[0m\n\u001b[1;32m----> 1\u001b[0m \u001b[38;5;28;01mfrom\u001b[39;00m \u001b[38;5;21;01mCodeLibrary\u001b[39;00m \u001b[38;5;28;01mimport\u001b[39;00m Simulation\n",
      "File \u001b[1;32m~\\Documents\\AspenProj\\Aspen\\CodeLibrary.py:25\u001b[0m\n\u001b[0;32m      9\u001b[0m \u001b[38;5;66;03m#from scripy import optimize\u001b[39;00m\n\u001b[0;32m     12\u001b[0m \u001b[38;5;124;03m\"\"\"Created on the 24.05.2022\u001b[39;00m\n\u001b[0;32m     13\u001b[0m \u001b[38;5;124;03m@author: Richard ten Hagen\u001b[39;00m\n\u001b[0;32m     14\u001b[0m \u001b[38;5;124;03m@author contact: Richardxtenxhagen@gmail.com\u001b[39;00m\n\u001b[1;32m   (...)\u001b[0m\n\u001b[0;32m     20\u001b[0m \u001b[38;5;124;03mIf you change it, update it, fix something just email me such that I can also update my version to keep it as coherent as possible\u001b[39;00m\n\u001b[0;32m     21\u001b[0m \u001b[38;5;124;03m\"\"\"\u001b[39;00m\n\u001b[1;32m---> 25\u001b[0m \u001b[38;5;28;01mclass\u001b[39;00m \u001b[38;5;21;01mSimulation\u001b[39;00m():\n\u001b[0;32m     26\u001b[0m \u001b[38;5;250m    \u001b[39m\u001b[38;5;124;03m\"\"\"Class which starts a Simulation interface instance\u001b[39;00m\n\u001b[0;32m     27\u001b[0m \u001b[38;5;124;03m    \u001b[39;00m\n\u001b[0;32m     28\u001b[0m \u001b[38;5;124;03m    Args:\u001b[39;00m\n\u001b[1;32m   (...)\u001b[0m\n\u001b[0;32m     31\u001b[0m \u001b[38;5;124;03m        VISIBITLITY: Toggles the opening and interactive running of the Aspen simulation\u001b[39;00m\n\u001b[0;32m     32\u001b[0m \u001b[38;5;124;03m    \"\"\"\u001b[39;00m\n\u001b[0;32m     33\u001b[0m     AspenSimulation \u001b[38;5;241m=\u001b[39m win32\u001b[38;5;241m.\u001b[39mgencache\u001b[38;5;241m.\u001b[39mEnsureDispatch(\u001b[38;5;124m\"\u001b[39m\u001b[38;5;124mApwn.Document\u001b[39m\u001b[38;5;124m\"\u001b[39m)\n",
      "File \u001b[1;32m~\\Documents\\AspenProj\\Aspen\\CodeLibrary.py:33\u001b[0m, in \u001b[0;36mSimulation\u001b[1;34m()\u001b[0m\n\u001b[0;32m     25\u001b[0m \u001b[38;5;28;01mclass\u001b[39;00m \u001b[38;5;21;01mSimulation\u001b[39;00m():\n\u001b[0;32m     26\u001b[0m \u001b[38;5;250m    \u001b[39m\u001b[38;5;124;03m\"\"\"Class which starts a Simulation interface instance\u001b[39;00m\n\u001b[0;32m     27\u001b[0m \u001b[38;5;124;03m    \u001b[39;00m\n\u001b[0;32m     28\u001b[0m \u001b[38;5;124;03m    Args:\u001b[39;00m\n\u001b[1;32m   (...)\u001b[0m\n\u001b[0;32m     31\u001b[0m \u001b[38;5;124;03m        VISIBITLITY: Toggles the opening and interactive running of the Aspen simulation\u001b[39;00m\n\u001b[0;32m     32\u001b[0m \u001b[38;5;124;03m    \"\"\"\u001b[39;00m\n\u001b[1;32m---> 33\u001b[0m     AspenSimulation \u001b[38;5;241m=\u001b[39m win32\u001b[38;5;241m.\u001b[39mgencache\u001b[38;5;241m.\u001b[39mEnsureDispatch(\u001b[38;5;124m\"\u001b[39m\u001b[38;5;124mApwn.Document\u001b[39m\u001b[38;5;124m\"\u001b[39m)\n\u001b[0;32m     35\u001b[0m     \u001b[38;5;28;01mdef\u001b[39;00m \u001b[38;5;21m__init__\u001b[39m(\u001b[38;5;28mself\u001b[39m, AspenFileName:\u001b[38;5;28mstr\u001b[39m, WorkingDirectoryPath:\u001b[38;5;28mstr\u001b[39m, VISIBILITY:\u001b[38;5;28mbool\u001b[39m \u001b[38;5;241m=\u001b[39m \u001b[38;5;28;01mTrue\u001b[39;00m):\n\u001b[0;32m     36\u001b[0m         \u001b[38;5;28mprint\u001b[39m(\u001b[38;5;124m\"\u001b[39m\u001b[38;5;124mThe current Directory is :  \u001b[39m\u001b[38;5;124m\"\u001b[39m)\n",
      "File \u001b[1;32mC:\\ProgramData\\anaconda3\\Lib\\site-packages\\win32com\\client\\gencache.py:625\u001b[0m, in \u001b[0;36mEnsureDispatch\u001b[1;34m(prog_id, bForDemand)\u001b[0m\n\u001b[0;32m    623\u001b[0m tlb, index \u001b[38;5;241m=\u001b[39m ti\u001b[38;5;241m.\u001b[39mGetContainingTypeLib()\n\u001b[0;32m    624\u001b[0m tla \u001b[38;5;241m=\u001b[39m tlb\u001b[38;5;241m.\u001b[39mGetLibAttr()\n\u001b[1;32m--> 625\u001b[0m mod \u001b[38;5;241m=\u001b[39m EnsureModule(tla[\u001b[38;5;241m0\u001b[39m], tla[\u001b[38;5;241m1\u001b[39m], tla[\u001b[38;5;241m3\u001b[39m], tla[\u001b[38;5;241m4\u001b[39m], bForDemand\u001b[38;5;241m=\u001b[39mbForDemand)\n\u001b[0;32m    626\u001b[0m GetModuleForCLSID(disp_clsid)\n\u001b[0;32m    627\u001b[0m \u001b[38;5;66;03m# Get the class from the module.\u001b[39;00m\n",
      "File \u001b[1;32mC:\\ProgramData\\anaconda3\\Lib\\site-packages\\win32com\\client\\gencache.py:598\u001b[0m, in \u001b[0;36mEnsureModule\u001b[1;34m(typelibCLSID, lcid, major, minor, progressInstance, bValidateFile, bForDemand, bBuildHidden)\u001b[0m\n\u001b[0;32m    596\u001b[0m     \u001b[38;5;28;01mreturn\u001b[39;00m ret\n\u001b[0;32m    597\u001b[0m \u001b[38;5;66;03m# print \"Rebuilding: \", major, minor\u001b[39;00m\n\u001b[1;32m--> 598\u001b[0m module \u001b[38;5;241m=\u001b[39m MakeModuleForTypelib(\n\u001b[0;32m    599\u001b[0m     typelibCLSID,\n\u001b[0;32m    600\u001b[0m     lcid,\n\u001b[0;32m    601\u001b[0m     major,\n\u001b[0;32m    602\u001b[0m     minor,\n\u001b[0;32m    603\u001b[0m     progressInstance,\n\u001b[0;32m    604\u001b[0m     bForDemand\u001b[38;5;241m=\u001b[39mbForDemand,\n\u001b[0;32m    605\u001b[0m     bBuildHidden\u001b[38;5;241m=\u001b[39mbBuildHidden,\n\u001b[0;32m    606\u001b[0m )\n\u001b[0;32m    607\u001b[0m \u001b[38;5;66;03m# If we replaced something, reload it\u001b[39;00m\n\u001b[0;32m    608\u001b[0m \u001b[38;5;28;01mif\u001b[39;00m bReloadNeeded:\n",
      "File \u001b[1;32mC:\\ProgramData\\anaconda3\\Lib\\site-packages\\win32com\\client\\gencache.py:315\u001b[0m, in \u001b[0;36mMakeModuleForTypelib\u001b[1;34m(typelibCLSID, lcid, major, minor, progressInstance, bForDemand, bBuildHidden)\u001b[0m\n\u001b[0;32m    298\u001b[0m \u001b[38;5;250m\u001b[39m\u001b[38;5;124;03m\"\"\"Generate support for a type library.\u001b[39;00m\n\u001b[0;32m    299\u001b[0m \n\u001b[0;32m    300\u001b[0m \u001b[38;5;124;03mGiven the IID, LCID and version information for a type library, generate\u001b[39;00m\n\u001b[1;32m   (...)\u001b[0m\n\u001b[0;32m    311\u001b[0m \u001b[38;5;124;03m                    use the GUI progress bar.\u001b[39;00m\n\u001b[0;32m    312\u001b[0m \u001b[38;5;124;03m\"\"\"\u001b[39;00m\n\u001b[0;32m    313\u001b[0m \u001b[38;5;28;01mfrom\u001b[39;00m \u001b[38;5;21;01m.\u001b[39;00m \u001b[38;5;28;01mimport\u001b[39;00m makepy\n\u001b[1;32m--> 315\u001b[0m makepy\u001b[38;5;241m.\u001b[39mGenerateFromTypeLibSpec(\n\u001b[0;32m    316\u001b[0m     (typelibCLSID, lcid, major, minor),\n\u001b[0;32m    317\u001b[0m     progressInstance\u001b[38;5;241m=\u001b[39mprogressInstance,\n\u001b[0;32m    318\u001b[0m     bForDemand\u001b[38;5;241m=\u001b[39mbForDemand,\n\u001b[0;32m    319\u001b[0m     bBuildHidden\u001b[38;5;241m=\u001b[39mbBuildHidden,\n\u001b[0;32m    320\u001b[0m )\n\u001b[0;32m    321\u001b[0m \u001b[38;5;28;01mreturn\u001b[39;00m GetModuleForTypelib(typelibCLSID, lcid, major, minor)\n",
      "File \u001b[1;32mC:\\ProgramData\\anaconda3\\Lib\\site-packages\\win32com\\client\\makepy.py:315\u001b[0m, in \u001b[0;36mGenerateFromTypeLibSpec\u001b[1;34m(typelibInfo, file, verboseLevel, progressInstance, bUnicodeToString, bForDemand, bBuildHidden)\u001b[0m\n\u001b[0;32m    313\u001b[0m         \u001b[38;5;28;01mpass\u001b[39;00m\n\u001b[0;32m    314\u001b[0m     \u001b[38;5;28;01mif\u001b[39;00m \u001b[38;5;129;01mnot\u001b[39;00m os\u001b[38;5;241m.\u001b[39mpath\u001b[38;5;241m.\u001b[39misdir(full_name):\n\u001b[1;32m--> 315\u001b[0m         os\u001b[38;5;241m.\u001b[39mmkdir(full_name)\n\u001b[0;32m    316\u001b[0m     outputName \u001b[38;5;241m=\u001b[39m os\u001b[38;5;241m.\u001b[39mpath\u001b[38;5;241m.\u001b[39mjoin(full_name, \u001b[38;5;124m\"\u001b[39m\u001b[38;5;124m__init__.py\u001b[39m\u001b[38;5;124m\"\u001b[39m)\n\u001b[0;32m    317\u001b[0m \u001b[38;5;28;01melse\u001b[39;00m:\n",
      "\u001b[1;31mPermissionError\u001b[0m: [WinError 5] Access is denied: 'C:\\\\ProgramData\\\\anaconda3\\\\Lib\\\\site-packages\\\\win32com\\\\gen_py\\\\8E567520-F9BA-11CF-90B2-0000C0A810C4x1033x21x0'"
     ]
    }
   ],
   "source": [
    "from CodeLibrary import Simulation"
   ]
  }
 ],
 "metadata": {
  "kernelspec": {
   "display_name": "Python 3 (ipykernel)",
   "language": "python",
   "name": "python3"
  },
  "language_info": {
   "codemirror_mode": {
    "name": "ipython",
    "version": 3
   },
   "file_extension": ".py",
   "mimetype": "text/x-python",
   "name": "python",
   "nbconvert_exporter": "python",
   "pygments_lexer": "ipython3",
   "version": "3.11.5"
  }
 },
 "nbformat": 4,
 "nbformat_minor": 5
}
